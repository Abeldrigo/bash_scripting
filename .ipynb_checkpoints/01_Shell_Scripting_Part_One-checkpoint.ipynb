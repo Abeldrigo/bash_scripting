{
 "cells": [
  {
   "cell_type": "markdown",
   "metadata": {},
   "source": [
    "![aga](img/AB_logo.png)"
   ]
  },
  {
   "cell_type": "markdown",
   "metadata": {},
   "source": [
    "# Shell Scripting\n",
    "\n",
    "## Scripts\n",
    "A script is a command line program that contains a series of commands.\n",
    "\n",
    "Commands contained in the script are executed by an interpreter. In the case of shell scripts, the shell access the interpreter and executes the commands listed in the script one after the other.\n",
    "\n",
    "Anything you can execute at the command line, you can put into a shell script.\n",
    "\n",
    "Shell scripsts are great at automating tasks.\n",
    "If you find yourself running a series of commands to accomplish a given task and you need to perform that task again in the future, you can, and probably should, create a shell script for that task."
   ]
  },
  {
   "cell_type": "markdown",
   "metadata": {},
   "source": [
    "### <span style=\"background-color: #FF9D5C\">script.sh</span>"
   ]
  },
  {
   "cell_type": "code",
   "execution_count": null,
   "metadata": {},
   "outputs": [],
   "source": [
    "#!/bin/bash\n",
    "\n",
    "echo \"Scripting is fun!\""
   ]
  },
  {
   "cell_type": "markdown",
   "metadata": {},
   "source": [
    "***\n",
    "| script.sh                | Description |\n",
    "|:-------------------------|:------------|\n",
    "| #!/bin/bash              | #! is known as shebang. It's useful for indicate which shell we will use. |\n",
    "| echo \"Scripting is fun!\" | The command that will be executed in the script |"
   ]
  },
  {
   "cell_type": "markdown",
   "metadata": {},
   "source": [
    "`$ chmod 755 script.sh`   -> Converts the indicated file as executable.\n",
    "\n",
    "`$ ./script.sh`    -> run the script\n",
    "\n",
    "Scripting is fun!    -> Result of the script"
   ]
  },
  {
   "cell_type": "markdown",
   "metadata": {},
   "source": [
    "If you do not supply a **shebang** and specify an interpreter on the first line of the script, the commands in the scrip will be executed using your current shell.\n",
    "\n",
    "Different shells have slightly varying syntax."
   ]
  },
  {
   "cell_type": "markdown",
   "metadata": {},
   "source": [
    "## Variables\n",
    "* Storage locations that have a name\n",
    "* Name-value pairs\n",
    "* Syntax:    \n",
    "        VARIABLE_NAME=\"Value\"\n",
    "    **Make sure to not use any spaces before or after the equal sign.**\n",
    "* Variables are case sensitive\n",
    "* By convention variables are in all uppercase\n",
    "* Can contain letters, digits, and underscores\n",
    "* Can start with letters or underscores\n",
    "* **Cannot** start with a digit\n",
    "* **Cannot** contain special characteres such as \"-\" or \"@\""
   ]
  },
  {
   "cell_type": "markdown",
   "metadata": {},
   "source": [
    "## Variable Usage\n",
    "\n",
    "To use a variable, precede the variable name with a dollar sign:"
   ]
  },
  {
   "cell_type": "code",
   "execution_count": null,
   "metadata": {},
   "outputs": [],
   "source": [
    "#!/bin/bash\n",
    "\n",
    "MY_SHELL=\"bash\"\n",
    "\n",
    "echo \"I like the $MY_SHELL shell.\""
   ]
  },
  {
   "cell_type": "markdown",
   "metadata": {},
   "source": [
    "***\n",
    "You can also enclose the variable name in curly braces and precede the opening brace with a dollar sign.\n",
    "\n",
    "**The curly brace syntax is optional unless you need to immediately precede or follow the variable with additional data.**"
   ]
  },
  {
   "cell_type": "code",
   "execution_count": null,
   "metadata": {},
   "outputs": [],
   "source": [
    "#!/bin/bash\n",
    "\n",
    "MY_SHELL=\"bash\"\n",
    "\n",
    "echo \"I like the ${MY_SHELL} shell.\""
   ]
  },
  {
   "cell_type": "markdown",
   "metadata": {},
   "source": [
    "## Assign command output to a variable\n",
    "To do this,enclose the command in parenthesis and precede it with a dollar sign:"
   ]
  },
  {
   "cell_type": "code",
   "execution_count": null,
   "metadata": {},
   "outputs": [],
   "source": [
    "#!/bin/bash\n",
    "\n",
    "SERVER_NAME=$(hostname)\n",
    "\n",
    "echo \"You are running this script on ${SERVER_NAME}.\""
   ]
  },
  {
   "cell_type": "markdown",
   "metadata": {},
   "source": [
    "# Tests\n",
    "To create a test place a conditionalexpression between brackets.\n",
    "\n",
    "**Syntax:**\n",
    "\n",
    "    [ condition-to-test-for ]\n",
    "\n",
    "**Example:**\n",
    "\n",
    "    [ -e /etc/passwd ]\n",
    "\n",
    "Exits with a **status of 0 (true) or 1 (false)** depending on the evaluation of EXPR."
   ]
  },
  {
   "cell_type": "markdown",
   "metadata": {},
   "source": [
    "You can run the command **`help test`** to see the varios types of tests you can perform."
   ]
  },
  {
   "cell_type": "code",
   "execution_count": null,
   "metadata": {},
   "outputs": [],
   "source": [
    "help test"
   ]
  },
  {
   "cell_type": "markdown",
   "metadata": {},
   "source": [
    "You can also read the man page for test by typing in **`man test`**."
   ]
  },
  {
   "cell_type": "code",
   "execution_count": null,
   "metadata": {},
   "outputs": [],
   "source": [
    "man test"
   ]
  },
  {
   "cell_type": "markdown",
   "metadata": {},
   "source": [
    "## File operators (tests)\n",
    "-d FILE    True if file is a directory.\n",
    "\n",
    "-e FILE    True if file exists.\n",
    "\n",
    "-f FILE    True if file exists and is a regular file.\n",
    "\n",
    "-r FILE    True if file is readable by you.\n",
    "\n",
    "-s FILE    True if file exists and is not empty.\n",
    "\n",
    "-w FILE    True if file file is writable by you.\n",
    "\n",
    "-x FILE    True if file is executable by you."
   ]
  },
  {
   "cell_type": "markdown",
   "metadata": {},
   "source": [
    "## String operators (test)\n",
    "-z STRING      True if string is empty.\n",
    "\n",
    "-n STRING      True if string is not empty.\n",
    "\n",
    "STRING1 = STRING2\n",
    "\n",
    "               True if the strings are equal.\n",
    "\n",
    "STRING1 != STRING2\n",
    "\n",
    "               True if the strings are not equal.\n",
    "\n",
    "STRING1 < STRING2\n",
    "\n",
    "               True if STRING1 sorts before STRING2 lexicographically.\n",
    "\n",
    "STRING1 > STRING2\n",
    "\n",
    "               True if STRING1 sorts after STRING2 lexicographically.\n"
   ]
  },
  {
   "cell_type": "markdown",
   "metadata": {},
   "source": [
    "## Arithmetic operators (test)\n",
    "INTEGER1 **-eq** INTEGER2\n",
    "\n",
    "              INTEGER1 is equal to INTEGER2\n",
    "\n",
    "INTEGER1 **-ge** INTEGER2\n",
    "\n",
    "              INTEGER1 is greater than or equal to INTEGER2\n",
    "\n",
    "INTEGER1 **-gt** INTEGER2\n",
    "\n",
    "              INTEGER1 is greater than INTEGER2\n",
    "\n",
    "INTEGER1 **-le** INTEGER2\n",
    "\n",
    "              INTEGER1 is less than or equal to INTEGER2\n",
    "\n",
    "INTEGER1 **-lt** INTEGER2\n",
    "\n",
    "              INTEGER1 is less than INTEGER2\n",
    "\n",
    "INTEGER1 **-ne** INTEGER2\n",
    "\n",
    "              INTEGER1 is not equal to INTEGER2"
   ]
  },
  {
   "cell_type": "markdown",
   "metadata": {},
   "source": [
    "![ag](img/AB_combi.png)"
   ]
  },
  {
   "cell_type": "code",
   "execution_count": null,
   "metadata": {},
   "outputs": [],
   "source": []
  }
 ],
 "metadata": {
  "kernelspec": {
   "display_name": "Bash",
   "language": "bash",
   "name": "bash"
  },
  "language_info": {
   "codemirror_mode": "shell",
   "file_extension": ".sh",
   "mimetype": "text/x-sh",
   "name": "bash"
  }
 },
 "nbformat": 4,
 "nbformat_minor": 4
}
