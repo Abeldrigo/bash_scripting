{
 "cells": [
  {
   "cell_type": "markdown",
   "metadata": {},
   "source": [
    "![aga](img/AB_logo.png)"
   ]
  },
  {
   "cell_type": "markdown",
   "metadata": {},
   "source": [
    "## Debugging\n",
    "***\n",
    "A software bug is an error in a computer program that causes it to produce an unexpected or incorrect result.\n",
    "\n",
    "Most of the bugs are actually mistakes in the program's code or in its design.\n",
    "\n",
    "If you encounter a bug or an error in one of your scripts, you'll want to see exactly what is happening during the execution of that script.\n",
    "\n",
    "Maybe something isn't working as you initially anticipated anf you want to figure out where things are going wrong anf how you can update your script so that it performs as expected.\n",
    "\n",
    "Sometimes your script will produce an incorrect result or behave in unintended ways.\n",
    "\n",
    "Sometimes it will simply stop because of the syntax error or typo.\n",
    "\n",
    "This process of finding errors in your script or fixing unexpected behaviors is called **debugging**."
   ]
  },
  {
   "cell_type": "markdown",
   "metadata": {},
   "source": [
    "### Built in Debugging Help\n",
    "***\n",
    "The bash shell provides some options that can help you in debugging your scripts. \n",
    "\n",
    "You can use these options by updating the first line in your script to include one or more of these options.\n",
    "\n",
    "The most populat of these options is the `-x` option, which prints commands and their arguments as they are executed.\n",
    "\n",
    "This means that, instead of variables being displayed, the values of those variables are displayed. The same thing goes for expansions. Wildcards are not displeyed, but what they expand to is displayed.\n",
    "\n",
    "You'll sometimes hear this type of debugging called \"print debugging\", tracing, or an x-trace.\n",
    "\n",
    "If you are using this option in a shell script, simply add `-x` to the end of the shebang line.\n",
    "\n",
    "* #!/bin/bash -x\n",
    "\n",
    "If you want to do this at the command line, run `set -x`. Use `set +x` to stop this debugging behavior.\n",
    "\n",
    "You can also use this option for just a portion of your script. \n",
    "\n"
   ]
  },
  {
   "cell_type": "code",
   "execution_count": null,
   "metadata": {},
   "outputs": [],
   "source": []
  }
 ],
 "metadata": {
  "kernelspec": {
   "display_name": "Bash",
   "language": "bash",
   "name": "bash"
  },
  "language_info": {
   "codemirror_mode": "shell",
   "file_extension": ".sh",
   "mimetype": "text/x-sh",
   "name": "bash"
  }
 },
 "nbformat": 4,
 "nbformat_minor": 4
}
