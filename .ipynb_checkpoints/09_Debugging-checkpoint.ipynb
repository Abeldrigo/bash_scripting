{
 "cells": [
  {
   "cell_type": "markdown",
   "metadata": {},
   "source": [
    "![aga](img/AB_logo.png)"
   ]
  },
  {
   "cell_type": "markdown",
   "metadata": {},
   "source": [
    "## Debugging\n",
    "***\n",
    "A software bug is an error in a computer program that causes it to produce an unexpected or incorrect result.\n",
    "\n",
    "Most of the bugs are actually mistakes in the program's code or in its design.\n",
    "\n",
    "If you encounter a bug or an error in one of your scripts, you'll want to see exactly what is happening during the execution of that script.\n",
    "\n",
    "Maybe something isn't working as you initially anticipated anf you want to figure out where things are going wrong anf how you can update your script so that it performs as expected.\n",
    "\n",
    "Sometimes your script will produce an incorrect result or behave in unintended ways.\n",
    "\n",
    "Sometimes it will simply stop because of the syntax error or typo.\n",
    "\n",
    "This process of finding errors in your script or fixing unexpected behaviors is called **debugging**."
   ]
  },
  {
   "cell_type": "markdown",
   "metadata": {},
   "source": [
    "### Built in Debugging Help\n",
    "***\n",
    "The bash shell provides some options that can help you in debugging your scripts. \n",
    "\n",
    "You can use these options by updating the first line in your script to include one or more of these options.\n",
    "\n",
    "The most populat of these options is the `-x` option, which prints commands and their arguments as they are executed.\n",
    "\n",
    "This means that, instead of variables being displayed, the values of those variables are displayed. The same thing goes for expansions. Wildcards are not displeyed, but what they expand to is displayed.\n",
    "\n",
    "You'll sometimes hear this type of debugging called \"print debugging\", tracing, or an x-trace.\n",
    "\n",
    "If you are using this option in a shell script, simply add `-x` to the end of the shebang line.\n",
    "\n",
    "* **#!/bin/bash -x**\n",
    "\n",
    "If you want to do this at the command line, run `set -x`. Use `set +x` to stop this debugging behavior.\n",
    "\n",
    "You can also use this option for just a portion of your script. Just before you want to start displaying the commands to the screen, add a `set -x line`. Place `set +x` on a line after the section of the shell script that you are debugging.\n",
    "\n",
    "Again `set -x` will start the **x-trace** while `set +x` will stop the **x-trace**."
   ]
  },
  {
   "cell_type": "markdown",
   "metadata": {},
   "source": [
    "***\n",
    "Here is a very simple example that demonstrates the use of the `-x` option.\n",
    "\n",
    "You can see that `-x` has been added to the end of the shebang."
   ]
  },
  {
   "cell_type": "code",
   "execution_count": null,
   "metadata": {},
   "outputs": [],
   "source": [
    "cat scripts/test_debugging1.sh"
   ]
  },
  {
   "cell_type": "markdown",
   "metadata": {},
   "source": [
    "You'll notice that there are lines that start with a **plus sign**.\n",
    "\n",
    "Those are the commands that are being executed from the script.\n",
    "\n",
    "In this example, there are two commands that are executed.\n",
    "\n",
    "The first is setting the value of the **TEST_VAR** varible.\n",
    "\n",
    "The second command is to echo that value to the screen.\n",
    "\n",
    "In the otput the result of the echo command, which is \"test\", is displayed. There is **no** plus sign in front of it because it's output as a result of a command and not a command itself."
   ]
  },
  {
   "cell_type": "code",
   "execution_count": null,
   "metadata": {},
   "outputs": [],
   "source": [
    "./scripts/test_debugging1.sh"
   ]
  },
  {
   "cell_type": "markdown",
   "metadata": {},
   "source": [
    "***\n",
    "Here is another example.\n",
    "\n",
    "This shows how you can turn debugging on for just a portion of your script.\n",
    "\n",
    "First, the **TEST_VAR** variable is set.\n",
    "\n",
    "You'll see in the output that nothing is listed for this command because debugging isn't on at this point.\n",
    "\n",
    "The next line turns on debugging with the `set -x` command. Again, nothing is displayed in the outpput for this action.\n",
    "\n",
    "Now the **TEST_VAR** is echoed to the screen. The `echo` command is displayed because debugging is now on. Of course, the output of the `echo` command is displayed next on the screen.\n",
    "\n",
    "We use `set +x` to turn off debugging. That `set` command is displayed on the screen.\n",
    "\n",
    "Finally, the `hostname` command is executed and only its output is displayed.\n",
    "\n",
    "Again, this is to demonstrate how you can encapsulate a block of code with `set -x` and `set +x` to debug that particular section of code."
   ]
  },
  {
   "cell_type": "code",
   "execution_count": null,
   "metadata": {},
   "outputs": [],
   "source": [
    "cat scripts/test_debugging2.sh"
   ]
  },
  {
   "cell_type": "code",
   "execution_count": null,
   "metadata": {},
   "outputs": [],
   "source": [
    "./scripts/test_debugging2.sh"
   ]
  },
  {
   "cell_type": "markdown",
   "metadata": {},
   "source": [
    "Another useful option that can help you in finding errors in your scripts is the `-e` option. It causes your script to exit immediately if a command exits with a non-zero exit status. Rememver that an exit status of zero indicates the successful completion of a command and any exit satatus other than zero indicates some sort of error.\n",
    "\n",
    "This can really help you pin-point exactly where the problem is.\n",
    "\n",
    "You can use this in combination with other options including the `-x` option.\n",
    "\n",
    "When used as an argument to the bash command, these options act like any other options for other commands.\n",
    "\n",
    "Options that do not take arguments can be combined and only one hyphen is required followed by the options. Also it does not matter in which order they are used. So we can use `-ex` or `-xe`. If you want to, you can use a hyphen before each option, but this is unconventional."
   ]
  },
  {
   "cell_type": "markdown",
   "metadata": {},
   "source": [
    "***\n",
    "Here is an example using the `-e` option.\n",
    "\n",
    "First, a value is assigned to the variable **FILE_NAME**.\n",
    "\n",
    "Next the `ls` command is executed using **FILE_NAME** as an argument.\n",
    "\n",
    "Finally, the contents of the **FILE_NAME** variable are displayed to the screen.\n",
    "\n",
    "Hoever, when you execute the script, the `ls` command returns a non-zero exit status since the file does not exist.\n",
    "\n",
    "Because the `-e` option was used, the execution of the program halts, and the `echo` command is never attemped."
   ]
  },
  {
   "cell_type": "code",
   "execution_count": null,
   "metadata": {},
   "outputs": [],
   "source": [
    "cat scripts/test_debugging3.sh"
   ]
  },
  {
   "cell_type": "code",
   "execution_count": null,
   "metadata": {},
   "outputs": [],
   "source": [
    "./scripts/test_debugging3.sh"
   ]
  },
  {
   "cell_type": "markdown",
   "metadata": {},
   "source": [
    "***\n",
    "This time we'll use both the `-e` and `-x` options.\n",
    "\n",
    "The `-x` option causes the commands to be displayed on the screen.\n",
    "\n",
    "First, it displays the creation of the **FILE_NAME** variable.\n",
    "\n",
    "Next, is displays the `ls` command.\n",
    "\n",
    "You can clearly see  what `ls` is doing in this example. It's trying to display information about a file named **/not/here**. Ofcourse, this causes an error an the script stops because of the `-e` option."
   ]
  },
  {
   "cell_type": "code",
   "execution_count": null,
   "metadata": {},
   "outputs": [],
   "source": [
    "cat scripts/test_debugging4.sh"
   ]
  },
  {
   "cell_type": "code",
   "execution_count": null,
   "metadata": {},
   "outputs": [],
   "source": [
    "./scripts/test_debugging4.sh"
   ]
  },
  {
   "cell_type": "markdown",
   "metadata": {},
   "source": [
    "### Built in Debugging Help\n",
    "***\n",
    "Yet another useful option that can help you in the debugging process is the `-v` option. It prints the shell commands just like they are read in from the script.\n",
    "\n",
    "`-v` prints everything before any substitutions and expansions are applied.\n",
    "\n",
    "The `-x` option performs variable and wildcard expansion, but the `-v` option does not.\n",
    "\n",
    "You can use them in combination to see what a line looks like before and after substitutions and expansions occur."
   ]
  },
  {
   "cell_type": "markdown",
   "metadata": {},
   "source": [
    "***\n",
    "Here is an example of the `-v` option.\n",
    "\n",
    "It causes every line of the script to be displayed to the screen before it is executed. You'll notice that the lines are exactly as they are in the shell script.\n",
    "\n",
    "In this script, the only thing that happens is that test gets echoed to the screen. "
   ]
  },
  {
   "cell_type": "code",
   "execution_count": null,
   "metadata": {},
   "outputs": [],
   "source": [
    "cat scripts/test_debugging5.sh"
   ]
  },
  {
   "cell_type": "code",
   "execution_count": null,
   "metadata": {},
   "outputs": [],
   "source": [
    "./scripts/test_debugging5.sh"
   ]
  },
  {
   "cell_type": "markdown",
   "metadata": {},
   "source": [
    "***\n",
    "Here is what whould happen if we added the `-x` option to the previous script.\n",
    "\n",
    "What's useful about this output is that we can see the how a command looks in the shell script and how it actually gets executed.\n",
    "\n",
    "Take the `echo` command, for example. We can see in the script that we run `echo $TEST_VAR` and that actually causes `echo` test to be executed."
   ]
  },
  {
   "cell_type": "code",
   "execution_count": null,
   "metadata": {},
   "outputs": [],
   "source": [
    "cat scripts/test_debugging6.sh"
   ]
  },
  {
   "cell_type": "code",
   "execution_count": null,
   "metadata": {},
   "outputs": [],
   "source": [
    "./scripts/test_debugging6.sh"
   ]
  },
  {
   "cell_type": "markdown",
   "metadata": {},
   "source": [
    "### For more information.\n",
    "***\n",
    "From the command line, ussing a bash shell, you can run `help set`.\n",
    "\n",
    "You might want to pipe this output to a pager like `less` so you can easily scroll through all the options and their descriptions.\n",
    "\n",
    "`help set | less`"
   ]
  },
  {
   "cell_type": "code",
   "execution_count": null,
   "metadata": {},
   "outputs": [],
   "source": [
    "help set"
   ]
  },
  {
   "cell_type": "markdown",
   "metadata": {},
   "source": [
    "![ag](img/AB_combi.png)"
   ]
  }
 ],
 "metadata": {
  "kernelspec": {
   "display_name": "Bash",
   "language": "bash",
   "name": "bash"
  },
  "language_info": {
   "codemirror_mode": "shell",
   "file_extension": ".sh",
   "mimetype": "text/x-sh",
   "name": "bash"
  }
 },
 "nbformat": 4,
 "nbformat_minor": 4
}
