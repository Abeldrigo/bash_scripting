{
 "cells": [
  {
   "cell_type": "markdown",
   "metadata": {},
   "source": [
    "![aga](img/AB_logo.png)"
   ]
  },
  {
   "cell_type": "markdown",
   "metadata": {},
   "source": [
    "## Case Statements\n",
    "Is generally used to simplify complex conditionals when you have multiple different choices. Using the `case` statement instead of nested `if` statements will help you make your bash scripts more readable and easier to maintain.\n",
    "\n",
    "To create a case statement, start with word case, follow it with an expression which is most commonly a variable, and end the line with the word in.\n",
    "\n",
    "Next, you list a pattern or a value you want to test against the variable. End the pattern with a parenthesis. If that pattern is matched, the commands following it will be executed.\n",
    "\n",
    "The execution will stop when a double semicolor is reached and the script will continue after the case statement.\n",
    "\n",
    "You can test for multiple values ussing the same pattern.\n",
    "\n",
    "Finally, the case statement is ended with esac, which is \"case\" spelled backwards.\n",
    "***\n",
    "\n",
    "case \"$VAR\" in\n",
    "\n",
    "    pattern_1)\n",
    "        # Commands go here\n",
    "        ;;\n",
    "    pattern_N)\n",
    "        # Commands go here\n",
    "        ;;\n",
    "    *)\n",
    "        # Commands go here\n",
    "        ;;\n",
    "esac"
   ]
  },
  {
   "cell_type": "markdown",
   "metadata": {},
   "source": [
    "You can run below scripts from a terminal with:\n",
    "\n",
    "`sh scripts/switch_construct.sh`\n",
    "\n",
    "`sh scripts/languages.sh`"
   ]
  },
  {
   "cell_type": "code",
   "execution_count": 1,
   "metadata": {},
   "outputs": [
    {
     "name": "stdout",
     "output_type": "stream",
     "text": [
      "#!/bin/bash\n",
      "\n",
      "read -p \"Enter a number: \" NUM\n",
      "\n",
      "case $NUM in\n",
      "  100)\n",
      "    echo \"Hundred!!\" ;;\n",
      "  200)\n",
      "    echo \"Double Hundred!!\" ;;\n",
      "  *)\n",
      "    echo \"Neither 100 nor 200\" ;;\n",
      "esac\n",
      "\n",
      "#The conditions are written between the case and esac keywords. \n",
      "#The *) is used for matching all inputs other than 100 and 200.\n"
     ]
    }
   ],
   "source": [
    "cat scripts/switch_construct.sh"
   ]
  },
  {
   "cell_type": "code",
   "execution_count": 2,
   "metadata": {},
   "outputs": [
    {
     "name": "stdout",
     "output_type": "stream",
     "text": [
      "#!/bin/bash\n",
      "\n",
      "read -p \"Enter the name of a country: \" COUNTRY\n",
      "\n",
      "echo -n \"The official language of $COUNTRY is \"\n",
      "\n",
      "case $COUNTRY in\n",
      "\n",
      "  Mexico | México | Argentina | Chile | Uruguay)\n",
      "    echo -n \"Spanish\"\n",
      "    ;;\n",
      "\n",
      "  Lithuania)\n",
      "    echo -n \"Lithuanian\"\n",
      "    ;;\n",
      "\n",
      "  Romania | Moldova)\n",
      "    echo -n \"Romanian\"\n",
      "    ;;\n",
      "\n",
      "  Italy | \"San Marino\" | Switzerland | \"Vatican City\")\n",
      "    echo -n \"Italian\"\n",
      "    ;;\n",
      "\n",
      "  *)\n",
      "    echo -n \"unknown\"\n",
      "    ;;\n",
      "esac\n",
      "\n",
      "echo \"\"\n"
     ]
    }
   ],
   "source": [
    "cat scripts/languages.sh"
   ]
  },
  {
   "cell_type": "markdown",
   "metadata": {},
   "source": [
    "![ag](img/AB_combi.png)"
   ]
  }
 ],
 "metadata": {
  "kernelspec": {
   "display_name": "Bash",
   "language": "bash",
   "name": "bash"
  },
  "language_info": {
   "codemirror_mode": "shell",
   "file_extension": ".sh",
   "mimetype": "text/x-sh",
   "name": "bash"
  }
 },
 "nbformat": 4,
 "nbformat_minor": 4
}
