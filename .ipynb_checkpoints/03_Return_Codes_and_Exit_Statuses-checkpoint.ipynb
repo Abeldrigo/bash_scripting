{
 "cells": [
  {
   "cell_type": "markdown",
   "metadata": {},
   "source": [
    "![aga](img/AB_logo.png)"
   ]
  },
  {
   "cell_type": "markdown",
   "metadata": {
    "id": "qbb3Eod7YllB"
   },
   "source": [
    "# Return Codes and Exit Statuses\n",
    "## Exit Statuses and Return Codes\n",
    "***\n",
    "Every time a command is executed, it returns a exit status when it terminates normally or abnormally.\n",
    "\n",
    "The **exit status**, which is sometimes called  ***a return code*** or ***exit code***, is an integer ranging from 0 to 255.\n",
    "\n",
    "By convention, commands that execute successfully return a **0** exit status.\n",
    "\n",
    "If some sort of error is encontered, then a non-zero exit status is returned.\n",
    "\n",
    "These **return codes** can be used in your script for error checking. It can be a simple check, like checking for a zero return code, or it cold be more complex, like checking for a specific error code."
   ]
  },
  {
   "cell_type": "markdown",
   "metadata": {
    "id": "HEsnKOfTcpee"
   },
   "source": [
    "* Every command returnas an exit status\n",
    "* Range from 0 to 255\n",
    "* 0 = success\n",
    "* Other than 0 = error condition\n",
    "* Use for errors checking\n",
    "* Use man or info to find meaning of exit status"
   ]
  },
  {
   "cell_type": "markdown",
   "metadata": {
    "id": "OZ_ucwhZdZIc"
   },
   "source": [
    "## Checking the Exit Status\n",
    "***\n",
    "* The special variable **$?** contains the return code of the previosly executed command"
   ]
  },
  {
   "cell_type": "code",
   "execution_count": null,
   "metadata": {
    "colab": {
     "base_uri": "https://localhost:8080/",
     "height": 135
    },
    "id": "QFEg9S_DYoBl",
    "outputId": "a882c556-a6b0-47cd-d077-dd32750ae263"
   },
   "outputs": [],
   "source": [
    "ls /not/here\n",
    "echo \"$?\""
   ]
  },
  {
   "cell_type": "code",
   "execution_count": null,
   "metadata": {
    "colab": {
     "base_uri": "https://localhost:8080/",
     "height": 135
    },
    "id": "ufrKVN6gdtIk",
    "outputId": "fb2482dd-3aa3-4504-aeee-7894a4c7f576"
   },
   "outputs": [],
   "source": [
    "#!/bin/bash\n",
    "HOST=\"google.com\"\n",
    "ping -c 1 $HOST\n",
    "if [ \"$?\" -eq \"0\" ]\n",
    "then\n",
    "  echo \"$HOST reachable.\"\n",
    "else\n",
    "  echo \"$HOST unreachable.\"\n",
    "fi"
   ]
  },
  {
   "cell_type": "code",
   "execution_count": null,
   "metadata": {
    "colab": {
     "base_uri": "https://localhost:8080/",
     "height": 135
    },
    "id": "lR24VcYIetJ0",
    "outputId": "f542cc0f-1969-486f-92a1-8e3747da30ec"
   },
   "outputs": [],
   "source": [
    "#!/bin/bash\n",
    "HOST=\"google.com\"\n",
    "ping -c 1 $HOST\n",
    "if [ \"$?\" -ne \"0\" ]\n",
    "then\n",
    "  echo \"$HOST unreachable.\"\n",
    "fi"
   ]
  },
  {
   "cell_type": "code",
   "execution_count": null,
   "metadata": {
    "colab": {
     "base_uri": "https://localhost:8080/",
     "height": 135
    },
    "id": "z0B26HC1fVJO",
    "outputId": "a0adae9c-0802-49c8-d3d6-6488ffa3e0bb"
   },
   "outputs": [],
   "source": [
    "HOST=\"google.com\"\n",
    "ping -c 1 $HOST\n",
    "RETURN_CODE=$?\n",
    "if [ \"$RETURN_CODE\" -ne \"0\" ]\n",
    "then\n",
    "  echo \"$HOST unreachable.\"\n",
    "fi"
   ]
  },
  {
   "cell_type": "markdown",
   "metadata": {
    "id": "nI55_cFWhYWb"
   },
   "source": [
    "## && and ||\n",
    "***\n",
    "* **&&** = AND\n",
    "\n",
    "`mkdir /tmp/bak && cp test.txt /tmp/bak`\n",
    "\n",
    "The command following **&&** will only execute if the previous command succeds (exits with a 0 exit status).\n",
    "\n",
    "\n",
    "* **||** = OR\n",
    "\n",
    "`cp test.txt /tmp/bak || cp test.txt /tmp`\n",
    "\n",
    "The command following **||** will only execute if the previous command fails. (exits with a non-zero exit status), then the nex command is executed."
   ]
  },
  {
   "cell_type": "code",
   "execution_count": null,
   "metadata": {
    "colab": {
     "base_uri": "https://localhost:8080/",
     "height": 135
    },
    "id": "NbcHAvidg_kM",
    "outputId": "27abb317-d684-47ce-86b1-d7daf18f3ab5"
   },
   "outputs": [],
   "source": [
    "#!/bin/bash\n",
    "HOST=\"google.com\"\n",
    "ping -c 1 $HOST && echo \"$HOST reachable.\""
   ]
  },
  {
   "cell_type": "code",
   "execution_count": null,
   "metadata": {
    "colab": {
     "base_uri": "https://localhost:8080/",
     "height": 135
    },
    "id": "NTajf0KBoYGd",
    "outputId": "7e4ff083-7fe9-46e0-ad37-9170c1693796"
   },
   "outputs": [],
   "source": [
    "#!/bin/bash\n",
    "HOST=\"google.com\"\n",
    "ping -c 1 $HOST || echo \"$HOST unreachable.\""
   ]
  },
  {
   "cell_type": "markdown",
   "metadata": {
    "id": "cwALRQi9ou-1"
   },
   "source": [
    "## The semicolon\n",
    "***\n",
    "* Separate commands with a semicolon to ensure they all get executed.\n",
    "\n",
    "`cp test.txt /tmp/bak/ ; cp test.txt /tmp`\n",
    "\n",
    "\\# Same as:\n",
    "\n",
    "`cp test.txt /tmp/bak/`\n",
    "\n",
    "`cp test.txt /tmp`"
   ]
  },
  {
   "cell_type": "markdown",
   "metadata": {
    "id": "5iT0XLYepzLs"
   },
   "source": [
    "## Exit Command\n",
    "***\n",
    "\n",
    "Not only normal commands return an exit status, but shell scripts do as well. You can control the exit status of your shell script by using the `exit` command.\n",
    "\n",
    "Simply use the `exit` command in your script and follow it with a number from **0 to 255**.\n",
    "\n",
    "* `exit 0`\n",
    "* `exit 1`\n",
    "* `exit 2`\n",
    "* `exit 255`\n",
    "* etc...\n",
    "\n",
    "The default value is that of the last command executed.\n",
    "\n",
    "You can use the `exit` command anywhere in your shell script. Whenever the `exit` command is reached, your shell script will stop running."
   ]
  },
  {
   "cell_type": "code",
   "execution_count": null,
   "metadata": {
    "colab": {
     "base_uri": "https://localhost:8080/",
     "height": 135
    },
    "id": "k_gH_iZtopaa",
    "outputId": "636d0f31-3806-462a-e269-9edabf4e41a6"
   },
   "outputs": [],
   "source": [
    "#!/bin/bash\n",
    "HOST=\"google.com\"\n",
    "ping -c 1 $HOST\n",
    "if [ \"$?\" -ne \"0\" ]\n",
    "then\n",
    "  echo \"$HOST unreachable.\"\n",
    "  exit 1\n",
    "fi\n",
    "exit 0"
   ]
  },
  {
   "cell_type": "markdown",
   "metadata": {
    "id": "4e76xYPGvYoy"
   },
   "source": [
    "Exercise 1:\n",
    "\n",
    "Write a shell script that displays \"This script will exit with a 0 exit status.\" Be sure that the script does indeed exit with a 0 exit status."
   ]
  },
  {
   "cell_type": "code",
   "execution_count": null,
   "metadata": {
    "id": "_Q9qhOXVr3TE"
   },
   "outputs": [],
   "source": [
    "#!/bin/bash\n",
    "echo \"This script will exit with a 0 exit status.\" && ls -lrt | tail && echo \"Exit status: $?\""
   ]
  },
  {
   "cell_type": "markdown",
   "metadata": {
    "id": "fruiDHg5wBhj"
   },
   "source": [
    "Exercise 2:\n",
    "\n",
    "Write a shell script that accepts a file or directory name as an argument. Have the script report if it is a regular file, a directory, or other type of file. If it is a regular file, exit with a 0 exit status. If it is a directory, exit with a 1 exit status. If it is some other type of file, exit with a 2 exit status.\n",
    "\n",
    "For this exercise we created file **exit_statuses.sh**, make it executable and run it passing an directory or file.\n",
    "\n",
    "**Note: Do NOT run in cell**"
   ]
  },
  {
   "cell_type": "code",
   "execution_count": null,
   "metadata": {
    "id": "_Ag1JY5QwJmp"
   },
   "outputs": [],
   "source": [
    "#!/bin/bash\n",
    "DIR_OR_FILE=$1\n",
    "if test -f ${DIR_OR_FILE}\n",
    "then\n",
    "    echo \"${DIR_OR_FILE} is a regular file.\"\n",
    "\texit 0\n",
    "elif test -d ${DIR_OR_FILE}\n",
    "then\n",
    "\techo \"${DIR_OR_FILE} is a directory.\"\n",
    "\texit 1\n",
    "else\n",
    "\techo \"${DIR_OR_FILE} is not a file nor a directory.\"\n",
    "\texit 2\n",
    "fi"
   ]
  },
  {
   "cell_type": "markdown",
   "metadata": {},
   "source": [
    "The code bellow calls scripts **exit_statuses.sh** giving an argument:"
   ]
  },
  {
   "cell_type": "code",
   "execution_count": null,
   "metadata": {},
   "outputs": [],
   "source": [
    "sh ~/Documents/intro_to_linux_cli/bash_scripting/scripts/exit_statuses.sh ~/Documents/intro_to_linux_cli/bash_scripting/LICENCE"
   ]
  },
  {
   "cell_type": "markdown",
   "metadata": {
    "id": "4vLFG-HJz7-x"
   },
   "source": [
    "Exercise 3:\n",
    "\n",
    "Write a script that executes the command \"cat /etc/shadow\". If the command returns a 0 exit status report \"Command succeeded\" and exit with a 0 exit status. If the command returns a non­zero exit status report \"Command failed\" and exit with a 1 exit status."
   ]
  },
  {
   "cell_type": "code",
   "execution_count": null,
   "metadata": {
    "id": "JfHYxdFe0Dhr"
   },
   "outputs": [],
   "source": [
    "#!/bin/bash\n",
    "cat /etc/shadow\n",
    "RETURN_CODE=$?\n",
    "if [ \"$RETURN_CODE\" -eq \"0\" ]\n",
    "then\n",
    "  echo \"Command succeeded.\"\n",
    "  exit 0\n",
    "else\n",
    "  echo \"Command failed.\"\n",
    "  exit 1\n",
    "fi"
   ]
  },
  {
   "cell_type": "markdown",
   "metadata": {},
   "source": [
    "![ag](img/AB_combi.png)"
   ]
  }
 ],
 "metadata": {
  "colab": {
   "collapsed_sections": [],
   "name": "AGA.ipynb",
   "provenance": []
  },
  "kernelspec": {
   "display_name": "Bash",
   "language": "bash",
   "name": "bash"
  },
  "language_info": {
   "codemirror_mode": "shell",
   "file_extension": ".sh",
   "mimetype": "text/x-sh",
   "name": "bash"
  }
 },
 "nbformat": 4,
 "nbformat_minor": 1
}
