{
 "cells": [
  {
   "cell_type": "markdown",
   "metadata": {},
   "source": [
    "![aga](img/AB_logo.png)"
   ]
  },
  {
   "cell_type": "markdown",
   "metadata": {},
   "source": [
    "## Logging\n",
    "***\n",
    "If you want to keep a record of what ocurred during the exeption of a shell script, you'll want to employ some sort of logging mechanism.\n",
    "\n",
    "Logs can store any type of information you want, but they typically answer who, what, when, where, and why something ocurred.\n",
    "\n",
    "Logs can be useful when your shell script performs several actions or produces a lot of output that might scroll off your screen.\n",
    "\n",
    "Also, if you plan to run your shell script unattended via cron or some other means, you might want a way to look back and see exactly what happened and when it happened during a previous run."
   ]
  },
  {
   "cell_type": "markdown",
   "metadata": {},
   "source": [
    "### Syslog\n",
    "***\n",
    "The Linux Operating System uses the syslog standard for message logging. This allows programs and applications to generate messages that can be captured, processed, and stored by the system logger. It eliminates the need for each and every application having to implement a logging mechanism. That means that we can take advantage of this logging system in our shell scripts.\n",
    "\n",
    "The system standard uses **facilities** and **severities** to categorize messages.\n",
    "\n",
    "Each message is labeled with a ***facility code*** and a ***severity level***.\n",
    "\n",
    "The various combinations of facilities and severities can be used to determine how a message is handled.\n",
    "\n",
    "**Facilities** are used to indicate what type of program or what part of the system the message originated from.\n",
    "\n",
    "For example, messaged that are labeled with the kern facility originate from the Linux kernel. Messages that are labeled with the mail facility come from applications involved in handling mail.\n",
    "\n",
    "There are several facilities. If your script is involved in handling mail, you could use the mail facillity for logging. If it's not clear what facility to use, you can simply use the user facility.\n",
    "\n",
    "Also, the facilities ranging from **local0** to **local7** are to be used to create custom logs.\n",
    "\n",
    "These facilities would also be appropriate for custom written shell scripts."
   ]
  },
  {
   "cell_type": "markdown",
   "metadata": {},
   "source": [
    "The **severeties** are: ***emergency***, ***alert***, ***critical***, ***error***, ***warning***, ***notice***, ***info***, and ***debug***.\n",
    "\n",
    "The most severe message is an emergency message and the least severe message is a debugging message.\n",
    "\n",
    "These combinations of facilities and severities are used by the system logger to handle these messages.\n",
    "\n",
    "Most messages are simply written to a file.\n",
    "\n",
    "Each distribution uses a slightly different set of defaults, and these logging rules are configurable and can be changed.\n",
    "\n",
    "You'll find many messages stored in **/var/log/messages** on some distributions while others use **/var/log/syslog**, for example.\n",
    "\n",
    "You'll have to consult the documentation for the system logger that is in use on your system.\n",
    "\n",
    "It's typically one of **syslogd**, **rsyslog**, or **syslog-ng**, although there are several other possibilities."
   ]
  },
  {
   "cell_type": "markdown",
   "metadata": {},
   "source": [
    "### Logging with logger\n",
    "***\n",
    "The `logger` command generates syslog messages. In its simplest form you simply supply a message to the logger utility. \n",
    "\n",
    "`logger \"Message\"`\n",
    "\n",
    "By default, the logger utility creates messages using the user facility and the notice severity. \n",
    "\n",
    "If you want to specify the facility and severity, use `-p` option followed by the facility, then a period, then the severity, and then follow that with the message you want to generate.\n",
    "\n",
    "`logger -p local0.info \"Message\"`\n",
    "\n",
    "If you want to tag your message, use the `-t` option. Typically, you'll want to use the name of your script as the tag. This way, you can search for the name of your script in a log file to extract just the messages for your script.\n",
    "\n",
    "`logger -t myscript -p local0.info \"Message\"`\n",
    "\n",
    "If you want to include the PID or Process ID, in the log message, use the `-i` option.\n",
    "\n",
    "`logger -i -t myscript \"Message\"`"
   ]
  },
  {
   "cell_type": "code",
   "execution_count": null,
   "metadata": {},
   "outputs": [],
   "source": [
    "!logger \"Message\""
   ]
  },
  {
   "cell_type": "code",
   "execution_count": null,
   "metadata": {},
   "outputs": [],
   "source": [
    "!logger -p local0.info \"Message\""
   ]
  },
  {
   "cell_type": "code",
   "execution_count": null,
   "metadata": {},
   "outputs": [],
   "source": [
    "!logger -s -p local0.info \"Message\""
   ]
  },
  {
   "cell_type": "code",
   "execution_count": null,
   "metadata": {},
   "outputs": [],
   "source": [
    "!logger -t myscript -p local0.info \"Message\""
   ]
  },
  {
   "cell_type": "code",
   "execution_count": null,
   "metadata": {},
   "outputs": [],
   "source": [
    "!logger -i -t myscript \"Message\""
   ]
  },
  {
   "cell_type": "markdown",
   "metadata": {},
   "source": [
    "You can even create a function in your shell script to handle logging.\n",
    "\n",
    "This function, named logit, expects that a log level be passed into it followed by a message. It assigns the first thing passed into it to the **LOG_LEVEL** variable.\n",
    "\n",
    "Next, shift is run to shift the positional parameters to the left. This means that the special variable **\\$@** contains averithing but the first positional parameter which we already used for our **LOG_LEVEL** variable.\n",
    "\n",
    "Everithing that is left over is assigned to the **MSG** variable.\n",
    "\n",
    "Next, a **TIMESTAMP** variable is created and assigned some output from the date command.\n",
    "\n",
    "If the **LOG_LEVEL** variable is set to \"Error\" or the **VERBOSE** global variable is set to \"TRUE\", then a message is echoed to the screen which includes information such as the timestamp, the log level, and ofcourse the message.\n",
    "\n",
    "logit () {\n",
    "\n",
    "    local LOG_LEVEL=$1\n",
    "    \n",
    "    shift\n",
    "    \n",
    "    MSG=$@\n",
    "    \n",
    "    TIMESTAMP=$(date +\"%Y-%m-%d %T\")\n",
    "    \n",
    "    if [ $LOG_LEVEL = 'ERROR' ] || $VERBOSE\n",
    "    \n",
    "    then\n",
    "    \n",
    "        echo \"${TIMESTAMP} ${HOST} ${PROGRAM_NAME} [${PID}]: ${LOG_LEVEL} ${MSG}\"\n",
    "        \n",
    "    fi\n",
    "    \n",
    "}\n",
    "\n",
    "logit INFO \"Processing data\"\n",
    "\n",
    "fetch-data \\\\$HOST || logit ERROR \"Could not fetch data from $HOST\"\n",
    "\n",
    "Instead of using `echo`, this function could've employed the use of the `logger` command, if we wanted to do that.\n",
    "\n",
    "The `fetch-data` command in this example is made up. It could be another shell script, for example."
   ]
  },
  {
   "cell_type": "markdown",
   "metadata": {},
   "source": [
    "![ag](img/AB_combi.png)"
   ]
  }
 ],
 "metadata": {
  "kernelspec": {
   "display_name": "Bash",
   "language": "bash",
   "name": "bash"
  },
  "language_info": {
   "codemirror_mode": "shell",
   "file_extension": ".sh",
   "mimetype": "text/x-sh",
   "name": "bash"
  }
 },
 "nbformat": 4,
 "nbformat_minor": 4
}
