{
 "cells": [
  {
   "cell_type": "markdown",
   "metadata": {},
   "source": [
    "## Caracteres especiales para expresiones regulares.\n",
    "***\n",
    "|Caracter| Acción|\n",
    "|:---|:-------\n",
    "|```^```|Busca un patrón al principio de una línea.|\n",
    "|```$```|Busca un patrón al final de una línea.|\n",
    "|```?```| Corresponde exactamente a un caracter.|\n",
    "|```\\```|Caracter de escape.|\n",
    "|```.```| Sustituye a un caracter de cualquier tipo.|\n",
    "|```*```| Corresponde a 0 o más caracteres.|\n",
    "|```[``` ...```]```|Rango de caracteres con los que puede haber coincidencia.|\n",
    "|```[^``` ... ```]```| Rango de caracteres con los que NO puede haber coincidencia.|\n",
    "|```(<expr 1>```\\|```<expr 2>``` \\| ...```)``` | Agrupa expresiones regulares.|\n",
    "|```{n}```| Valida si el catacter previo se repite *n* veces.|\n",
    "|```{n,m}```| Valida si el catacter previo se repite en un rango entre *n* y *m* de veces.|\n"
   ]
  },
  {
   "cell_type": "markdown",
   "metadata": {},
   "source": [
    "## Permisos.\n",
    "***\n",
    "| Número | Letra | Permiso |\n",
    "|:--------:|:--------| :--- |\n",
    "|4| r|lectura|\n",
    "|2| w|Escritura|\n",
    "|1| x|Ejecución o exploración|"
   ]
  }
 ],
 "metadata": {
  "kernelspec": {
   "display_name": "Bash",
   "language": "bash",
   "name": "bash"
  },
  "language_info": {
   "codemirror_mode": "shell",
   "file_extension": ".sh",
   "mimetype": "text/x-sh",
   "name": "bash"
  }
 },
 "nbformat": 4,
 "nbformat_minor": 4
}
