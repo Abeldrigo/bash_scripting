{
 "cells": [
  {
   "cell_type": "markdown",
   "metadata": {},
   "source": [
    "![aga](img/AB_logo.png)"
   ]
  },
  {
   "cell_type": "markdown",
   "metadata": {},
   "source": [
    "# How to create a *GitHub* repository from command line.\n",
    "\n",
    "## Step 1: Create a new local *Git* repository\n",
    "\n",
    "Open up your terminal and navigate to your projects folder, then run the following command to create a new project folder and navigate into it:\n",
    "\n",
    "`mkdir ~/Documents/hello-world`\n",
    "\n",
    "`cd hello-world`"
   ]
  },
  {
   "cell_type": "code",
   "execution_count": null,
   "metadata": {},
   "outputs": [],
   "source": [
    "mkdir ~/Documents/hello-world"
   ]
  },
  {
   "cell_type": "code",
   "execution_count": null,
   "metadata": {},
   "outputs": [],
   "source": [
    "cd ~/Documents/hello-world"
   ]
  },
  {
   "cell_type": "code",
   "execution_count": null,
   "metadata": {},
   "outputs": [],
   "source": [
    "pwd"
   ]
  },
  {
   "cell_type": "markdown",
   "metadata": {},
   "source": [
    "## Step 2: Adding a new file to our Git repository\n",
    "\n",
    "Create a new file in your project folder, we will call our sample file `hello.py`\n",
    "\n",
    "You can use the graphical interface of your operating system to create the file, or use the following terminal commands:\n",
    "\n",
    "**Bash (Mac/Linux) terminal:** `touch hello.py`\n",
    "\n",
    "**Windows Powershell:** `ni hello.py`\n",
    "\n",
    "You can open the `hello.py` file with your text editor, and write the following Python code which prints **Hello World!** to the console:\n",
    "\n",
    "`print(\"Hello World!\")`\n",
    "\n",
    "Save the file changes and switch back to your terminal window."
   ]
  },
  {
   "cell_type": "code",
   "execution_count": null,
   "metadata": {},
   "outputs": [],
   "source": [
    "touch hello.py"
   ]
  },
  {
   "cell_type": "code",
   "execution_count": null,
   "metadata": {},
   "outputs": [],
   "source": [
    "chmod a+x hello.py"
   ]
  },
  {
   "cell_type": "markdown",
   "metadata": {},
   "source": [
    "![](img/vi_hello_world.png)"
   ]
  },
  {
   "cell_type": "code",
   "execution_count": null,
   "metadata": {},
   "outputs": [],
   "source": [
    "python3 hello.py"
   ]
  },
  {
   "cell_type": "markdown",
   "metadata": {},
   "source": [
    "## Step 3: Initialize a new local Git repository\n",
    "\n",
    "To initialize a new local Git repository we need to run the `git init` command.\n",
    "\n",
    "After you run that command, you should get feedback that an empty Git repository was initialized for your project.\n",
    "\n",
    "**This command must be run just once**"
   ]
  },
  {
   "cell_type": "code",
   "execution_count": null,
   "metadata": {},
   "outputs": [],
   "source": [
    "git init"
   ]
  },
  {
   "cell_type": "markdown",
   "metadata": {},
   "source": [
    "**Note:** Make sure to use the `git status` command frequently when working with Git. It’s a great way to check the status of your project files and the whole repository.)"
   ]
  },
  {
   "cell_type": "code",
   "execution_count": null,
   "metadata": {},
   "outputs": [],
   "source": [
    "git status"
   ]
  },
  {
   "cell_type": "markdown",
   "metadata": {},
   "source": [
    "## Step 4: Making our initial commit to the local repository\n",
    "\n",
    "Run the following commands to track your files and make the initial commit in the local repository:\n",
    "\n",
    "`git add .` --> If you want to add all files in the directory use `.`, but you can indicate which file must be added with its name as well. (`git add README.md`)\n",
    "\n",
    "`git commit -m \"Initial commit\"` --> To perform the commit add a descriptive comment.\n",
    "\n",
    "When that’s done, it means that we successfully prepared our new local repository to be pushed to GitHub!"
   ]
  },
  {
   "cell_type": "code",
   "execution_count": null,
   "metadata": {},
   "outputs": [],
   "source": [
    "git add ."
   ]
  },
  {
   "cell_type": "code",
   "execution_count": null,
   "metadata": {
    "scrolled": true
   },
   "outputs": [],
   "source": [
    "git commit -m \"Initial commit\""
   ]
  },
  {
   "cell_type": "markdown",
   "metadata": {},
   "source": [
    "## Step 5: Creating a repo from command line.\n",
    "\n",
    "`curl -u \"GithubUser\" https://api.github.com/user/repos -d '{\"name\":\"Saturday\"}'`\n",
    "\n",
    "Indicate your Github user, and the name of the new repository. \n",
    "\n",
    "Please refer to the link bellow for more details.\n",
    "\n",
    "\n",
    "## Repositories\n",
    "\n",
    "The Repos API allows to create, manage and control the workflow of public and private GitHub repositories.\n",
    "\n",
    "https://docs.github.com/en/rest/reference/repos#create"
   ]
  },
  {
   "cell_type": "code",
   "execution_count": null,
   "metadata": {},
   "outputs": [],
   "source": [
    "curl -u \"GithubUser\" https://api.github.com/user/repos -d '{\"name\":\"Repo-Name\"}'"
   ]
  },
  {
   "cell_type": "markdown",
   "metadata": {},
   "source": [
    "## Step 6: Indicate git where to send the local code when we do the push\n",
    "\n",
    "`git remote add origin https://github.com/GithubUser/test.git`\n",
    "\n",
    "This indicates that there is a **remote** repository and it's **origin** is actually under https://github.com/GituserName/test.git\n",
    "\n",
    "This is a way to hook local environment with the environmet in the cloud. Now I know where to push my code where to send my code when I want to push it.\n",
    "\n",
    "**This command must be run just once**"
   ]
  },
  {
   "cell_type": "code",
   "execution_count": null,
   "metadata": {},
   "outputs": [],
   "source": [
    "git remote add origin https://github.com/GithubUser/borrar.git"
   ]
  },
  {
   "cell_type": "markdown",
   "metadata": {},
   "source": [
    "## Step 7: Pushing your code locally to Github\n",
    "\n",
    "`git push -u origin master`\n",
    "\n",
    "Push your code locally from origin to master\n",
    "\n",
    "**Note: Do not run below instruction on Notebook, only in a terminal**"
   ]
  },
  {
   "cell_type": "code",
   "execution_count": null,
   "metadata": {},
   "outputs": [],
   "source": [
    "git push -u origin master"
   ]
  },
  {
   "cell_type": "markdown",
   "metadata": {},
   "source": [
    "## CONNECT WITH SSH\n",
    "\n",
    "https://docs.github.com/en/authentication/connecting-to-github-with-ssh/about-ssh\n"
   ]
  },
  {
   "cell_type": "markdown",
   "metadata": {},
   "source": [
    "## Creating a personal access token (PAT)\n",
    "\n",
    "https://docs.github.com/en/authentication/keeping-your-account-and-data-secure/creating-a-personal-access-token\n",
    "\n",
    "You should create a personal access token to use in place of a password with the command line or with the API."
   ]
  },
  {
   "cell_type": "markdown",
   "metadata": {},
   "source": [
    "## Storing Git Credentials with Git Credential Helper\n",
    "\n",
    "When using git commands via Terminal, Git will sometimes need credentials from the user in order to perform operations; for example, it may need to ask for a username and password in order to access a remote repository over HTTP/HTTPS.\n",
    "\n",
    "***“gitcredentials”*** *module is used to* ***request these credentials from the user*** *as well as* ***stores these credentials*** *to avoid inputting these credentials repeatedly.*\n",
    "\n",
    "### Check below links for more detail:\n",
    "\n",
    "https://techexpertise.medium.com/storing-git-credentials-with-git-credential-helper-33d22a6b5ce7\n",
    "\n",
    "https://git-scm.com/docs/git-credential-store"
   ]
  },
  {
   "cell_type": "markdown",
   "metadata": {},
   "source": [
    "### Git Credentials Helper\n",
    "\n",
    "By default git credentials are not cached at all.\n",
    "Every connection will prompt you for your username and password.\n",
    "\n",
    "Git credentials helper can be configured in one of the following modes to remember the user credentials,\n",
    "\n",
    "* cache\n",
    "* store\n",
    "* osxkeychain\n",
    "* manager\n",
    "\n",
    "Use command `git config credential.helper` to know the configuration."
   ]
  },
  {
   "cell_type": "code",
   "execution_count": null,
   "metadata": {},
   "outputs": [],
   "source": [
    "git config credential.helper"
   ]
  },
  {
   "cell_type": "markdown",
   "metadata": {},
   "source": [
    "### Git Credentials Helper: store\n",
    "\n",
    "Store credentials indefinitely on disk.\n",
    "\n",
    "Execute the following command in a terminal to configure the git credential helper in store mode.\n",
    "\n",
    "`git config --global credential.helper store`."
   ]
  },
  {
   "cell_type": "code",
   "execution_count": null,
   "metadata": {},
   "outputs": [],
   "source": [
    "git config --global credential.helper store"
   ]
  }
 ],
 "metadata": {
  "kernelspec": {
   "display_name": "Bash",
   "language": "bash",
   "name": "bash"
  },
  "language_info": {
   "codemirror_mode": "shell",
   "file_extension": ".sh",
   "mimetype": "text/x-sh",
   "name": "bash"
  }
 },
 "nbformat": 4,
 "nbformat_minor": 4
}
