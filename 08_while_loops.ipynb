{
 "cells": [
  {
   "cell_type": "markdown",
   "metadata": {},
   "source": [
    "![aga](img/AB_logo.png)"
   ]
  },
  {
   "cell_type": "markdown",
   "metadata": {},
   "source": [
    "## While Loops\n",
    "***\n",
    "While loop is a loop that repeats a series of commands for as long as a given condition is true. This condition could be some sort of test, such as checking to see if a variable has a certain value or checking to see if a file exists, for example. The condition could also be any command. If the command succeeds and return a zero exit status, then the while loop will continue. When the command fails and returns a non-zero exit status, the condition is false and the while loop stops. If the condition is never true, then the commands inside the while loop are never executed. \n",
    "\n",
    "### While Loop Format\n",
    "\n",
    "while [ CONDITION_IS_TRUE ]\n",
    "\n",
    "do\n",
    "\n",
    "    # Commands change the condition\n",
    "    command 1\n",
    " \n",
    "    command 2\n",
    "  \n",
    "    command N\n",
    "  \n",
    "done\n",
    "\n",
    "\n",
    "Typically, the while loop checks for a condition that will be changed by the commands inside the while loop. If the condition is examining the value of a variable, that variable will be manipulated and changed in some way by the commands inside the while loop. If the condition is checking the exit status of a command, then the commands in the while loop will eventually cause the exit status of that command to be non-zero or false."
   ]
  },
  {
   "cell_type": "markdown",
   "metadata": {},
   "source": [
    "### Infinite Loops\n",
    "***\n",
    "If the condition that is being tested always returns true, then the while loop will never exit. If this happends, you'll need to interrupt the script by hitting `Control + C` if you are running it interactively from the command line. Otherwise you'll need to use the `kill` command to kill the process. Typically, when this happens it's due to a bug and logic error in the script.\n",
    "\n",
    "while [ CONDITION_IS_TRUE ]\n",
    "\n",
    "do\n",
    "\n",
    "    # Commands do NOT change the condition\n",
    "    \n",
    "    command N\n",
    "    \n",
    "done\n",
    "***\n",
    "There may be cases where you want an infinite loop. If so you can simply make the condition always return true by using the `true` command. The `true` command always exits with a zero exit status and thus is always true. If you want to create some type of service or daemon you can use this technique. You would simply start your shell script in the background and it would continually run until it was killed. When you do this, there are typically a series of commands in the while loop and then a sleep command to pause the execution of the script for a given number of seconds.\n",
    "\n",
    "while true\n",
    "\n",
    "do\n",
    "\n",
    "    command N\n",
    "    \n",
    "    sleep 1\n",
    "    \n",
    "done"
   ]
  },
  {
   "cell_type": "markdown",
   "metadata": {},
   "source": [
    "Let's take a look at a couple of actual examples of while loops. One thing you can do with while loops is control the number of times it loops. One common pattern you'll see is to create an index variable, check the value of that variable, then increment that variable at the end of the command secction of the while loop.\n",
    "\n",
    "This example demonstrates one way to loop five times.\n",
    "\n",
    "First, INDEX is set to one. \n",
    "\n",
    "The commands in the while loop get executed because INDEX is less than six. \n",
    "\n",
    "The `echo` command is executed and displays \"Creating project-1\". \n",
    "\n",
    "Then the `mkdir` command is executed.\n",
    "\n",
    "Finally, the INDEX variable is incremented by one. This is done by using something called arithmetic expression. You can enclose a mathematical expression inside double parentheses. The double plus sign is the increment operator, and it simply adds one to the variable it follows. \n",
    "\n",
    "The first time this loop is executed, INDEX will be incremented from one to two. The next iteration of the loop continues because INDEX, or two, is less than six. This repeats until INDEX is set to six on the fifth loop. Six is not less than six, so the while loop is completed and the script will continue."
   ]
  },
  {
   "cell_type": "code",
   "execution_count": null,
   "metadata": {},
   "outputs": [],
   "source": [
    "#!/bin/bash\n",
    "\n",
    "INDEX=1\n",
    "\n",
    "while [ $INDEX -lt 6 ]\n",
    "do\n",
    "    echo \"Creating project-${INDEX}\"\n",
    "    mkdir project-${INDEX}\n",
    "    ((INDEX++))\n",
    "done"
   ]
  },
  {
   "cell_type": "markdown",
   "metadata": {},
   "source": [
    "Here is an example where user input populates the variable that is being used to control the while loop. Here we are asking a user for a name.\n",
    "\n",
    "The first `read` command populates the NAME variable with the user's input.\n",
    "\n",
    "The next `read` command displays back what they entered and asks them if it's correct. That input is stored in the CORRECT variable. If the user answers anything other than a lowercase Y to that question, the loop repeats. When the CORRECT variable is set to lowercase Y, the loop is completed and the script continues after the while loop.\n",
    "\n",
    "You can run below code from a terminal."
   ]
  },
  {
   "cell_type": "code",
   "execution_count": null,
   "metadata": {},
   "outputs": [],
   "source": [
    "cat scripts/checking_user_input.sh"
   ]
  },
  {
   "cell_type": "markdown",
   "metadata": {},
   "source": [
    "Let's look at an example where you need to check the return code of a command. \n",
    "\n",
    "Let's say you have a script that runs on a database server and performs some sort of maintenance or backup. \n",
    "\n",
    "Let's make that script wait until the application server is off the network before it continues. \n",
    "\n",
    "This way can know that the application is not actively using the database while we are performing our maintenance. \n",
    "\n",
    "We do this by using the `ping` command. Using `-c 1` causes a count of one packet to be sent to the server. We also redirect the output to **/dev/null** since we do not really need to see the output. \n",
    "\n",
    "If the `ping` command succeeds, then an exit status of zero is returned. If it fails, then a non-zero exit status is returned. While the server is pingable the condition is true and the loop continues.\n",
    "\n",
    "Once the `ping` command fails, the script continues."
   ]
  },
  {
   "cell_type": "code",
   "execution_count": null,
   "metadata": {},
   "outputs": [],
   "source": [
    "#!/bin/bash\n",
    "\n",
    "while ping -c 1 app1 > /dev/null\n",
    "do\n",
    "    echo \"app1 still up...\"\n",
    "    sleep 5\n",
    "done\n",
    "\n",
    "echo \"app1 down. continuing.\""
   ]
  },
  {
   "cell_type": "markdown",
   "metadata": {},
   "source": [
    "### Reading a file, line-by-line.\n",
    "***\n",
    "If you've ever tried to use a for loop to read a file line-by-line, you'll quickly find that it doesn't work. What happends in that situation is the for loop will read the file word-by-word.\n",
    "\n",
    "To actually read a file line-by-line, use while in conjuction with a read command. On the last line of the while loop, use the key word \"done\" followed by the less than sign, followed by the file you wish to read.\n",
    "\n",
    "This example loops through the /etc/fstab file line-by-line, printing the line number followed by the actual line. We use a variable to keep track of the line numbers and increment it as we loop through the file."
   ]
  },
  {
   "cell_type": "code",
   "execution_count": null,
   "metadata": {},
   "outputs": [],
   "source": [
    "#!/bin/bash\n",
    "\n",
    "LINE_NUM=1\n",
    "\n",
    "while read LINE\n",
    "do\n",
    "    echo \"${LINE_NUM}: ${LINE}\"\n",
    "    ((LINE_NUM++))\n",
    "done < /etc/fstab"
   ]
  },
  {
   "cell_type": "markdown",
   "metadata": {},
   "source": [
    "You can also read from the output of a command instead of a file. To do this, pipe the otput of the command into the while loop. \n",
    "\n",
    "Let's modify the previous example to only print out lines that contain *ubuntu* file system. We use `grep ubuntu /etc/fstab` to extract the lines and then pipe those lines to the while loop. We simply prepend each line with \"ubuntu:\" followed by a space and then following it with the actual line from the fstab."
   ]
  },
  {
   "cell_type": "code",
   "execution_count": null,
   "metadata": {},
   "outputs": [],
   "source": [
    "grep ubuntu /etc/fstab | while read LINE\n",
    "do\n",
    "    echo \"ubuntu: ${LINE}\"\n",
    "done"
   ]
  },
  {
   "cell_type": "markdown",
   "metadata": {},
   "source": [
    "In the previous examples, we've been using the `read` command to read the entire line into one variable. However, the `read` command supports splitting the data it reads into multiple variables. Each variable supplied to the `read` command will store one word or one field of data, with any leftover words or fields assigned to the last variable supplied to the `read` command.\n",
    "\n",
    "Let's modify the previous example a bit. Here, we're going to assign the first word of data to the FS variable, the second word to the MP variable, and the rest of the line to the REST variable. If you want to assign each field in the fstab its own variable, you can do that too."
   ]
  },
  {
   "cell_type": "code",
   "execution_count": null,
   "metadata": {},
   "outputs": [],
   "source": [
    "#!/bin/bash\n",
    "\n",
    "FS_NUM=1\n",
    "\n",
    "grep ubuntu /etc/fstab | while read FS MP REST\n",
    "do\n",
    "    echo \"${FS_NUM}: file system: ${FS}\"\n",
    "    echo \"${FS_NUM}: mount point: ${MP}\"\n",
    "    ((FS_NUM++))\n",
    "done"
   ]
  },
  {
   "cell_type": "markdown",
   "metadata": {},
   "source": [
    "### `break` statement\n",
    "***\n",
    "If you want to exit a loop before its normal ending, use the `break` statement. The `break` statement exits the loop, but it does not exit the script. The script will continue after the loop.\n",
    "\n",
    "Here's one way you could create a simple menu. \n",
    "\n",
    "This example creates an infinite loop using \"`while true`\". \n",
    "\n",
    "Next, it asks the user for some input and stores that input in the variable CHOICE. \n",
    "\n",
    "A case statement is used to determine what action to take based on the user's input. \n",
    "\n",
    "If 1 was entered, then the `df` command is executed and the loop repeats, asking the user for input again. \n",
    "\n",
    "If 2 is entered, then the `uptime` command is executed and the loop repeats. \n",
    "\n",
    "If anything other than 1 or 2 is entered, then the `break` statement is executed, which **ends the while loop**.\n",
    "\n",
    "Note that the break statement can be used with other kinds of loops, like for loops, for example.\n",
    "\n",
    "You can run below code from a terminal with: **./scripts/simple_menu.sh**"
   ]
  },
  {
   "cell_type": "code",
   "execution_count": null,
   "metadata": {},
   "outputs": [],
   "source": [
    "cat scripts/simple_menu.sh"
   ]
  },
  {
   "cell_type": "markdown",
   "metadata": {},
   "source": [
    "### `continue` statement\n",
    "***\n",
    "If you want to restart the loop at the next iteration before the loop completes, use the continue statement.\n",
    "\n",
    "Any commands that follow the `continue` statement in the loop will not be executed. Execution continues back at the top of the loop and the while condition is examined again.\n",
    "\n",
    "In this example, we loop through a list of MySQL databases. \n",
    "\n",
    "The `-B` option to MySQL diables the ASCII table output that MySQL normally displays. \n",
    "\n",
    "The `-N` option suppresses the column names in the output. This prevents the header from being displayed.\n",
    "\n",
    "Finally, the `-e` option causes MySQL to execute the commands that follow it.\n",
    "\n",
    "Ultimately, this MySQL command list one database per line of output. That output is piped into a while loop.\n",
    "\n",
    "The `read` command assigns the input to the DB variable. First, we check to see if the database has been backed up recently.\n",
    "\n",
    "This is a command that I made up - perhaps it could be a call to another script. In this contrived example, the db-backed-up-recently script returns 0 if the database passed to it has beed backed up in the last 24 hours. Otherwise, it returns a 1.\n",
    "\n",
    "We use an `if` statement to examine the return code of that script. If the database has been backed up recently, we call the `continue` statement which starts the loop over again.\n",
    "\n",
    "The next database is checked and the next one and so on. If the database has not been backed up recently, then we go ahead and create a backuo if it.\n",
    "\n",
    "Again, the `backup` command is something that I made up - it could be another script that actually performs the backup, for example.\n",
    "\n",
    "The main point in this example is to demonstrate the use of the `continue` statement. Here we avoid unnecessary work by selectively operating on the items in the while loop by using the continue statement.\n",
    "\n",
    "Like the break statement, the continue statement can be used with other types of loops."
   ]
  },
  {
   "cell_type": "markdown",
   "metadata": {},
   "source": [
    "#!/bin/bash\n",
    "\n",
    "mysql -BNe 'show databases' | while read DB\n",
    "do\n",
    "    db-backed-up-recently $DB\n",
    "    \n",
    "    if [ \"$?\" -eq \"0\" ]\n",
    "    then\n",
    "        continue\n",
    "    fi\n",
    "    backup $DB\n",
    "done"
   ]
  },
  {
   "cell_type": "markdown",
   "metadata": {},
   "source": [
    "#### Exercise 1:\n",
    "Write a shell script that loops through the **/etc/passwd** file one line at a time. Prepend each line with a line number followed by a colon and then a space.\n",
    "\n",
    "Example output:\n",
    "\n",
    "1: root:x:0:0:root:/root:/bin/bash\n",
    "\n",
    "2: daemon:x:1:1:daemon:/usr/sbin:/usr/sbin/nologin\n",
    "\n",
    "3: bin:x:2:2:bin:/bin:/usr/sbin/nologin\n",
    "\n",
    "4: sys:x:3:3:sys:/dev:/usr/sbin/nologin\n"
   ]
  },
  {
   "cell_type": "code",
   "execution_count": null,
   "metadata": {},
   "outputs": [],
   "source": [
    "#!/bin/bash\n",
    "\n",
    "LINE_NUM=1\n",
    "\n",
    "while read LINE\n",
    "do\n",
    "    echo \"${LINE_NUM}: ${LINE}\"\n",
    "    ((LINE_NUM++))\n",
    "done < /etc/passwd"
   ]
  },
  {
   "cell_type": "markdown",
   "metadata": {},
   "source": [
    "#### Exercise 2:\n",
    "\n",
    "Write a shell script that asks the user for the number of lines they would like to display from the **/etc/passwd** file and display those lines.\n",
    "\n",
    "Example output:\n",
    "\n",
    "How many lines of /etc/passwd would you like to see? 3\n",
    "\n",
    "root:x:0:0:root:/root:/bin/bash\n",
    "\n",
    "daemon:x:1:1:daemon:/usr/sbin:/usr/sbin/nologin\n",
    "\n",
    "bin:x:2:2:bin:/bin:/usr/sbin/nologin\n",
    "\n",
    "You can run below code from a terminal with: **./scripts/while_loop_ex2.sh**\n"
   ]
  },
  {
   "cell_type": "code",
   "execution_count": null,
   "metadata": {},
   "outputs": [],
   "source": [
    "cat scripts/while_loop_ex2.sh"
   ]
  },
  {
   "cell_type": "markdown",
   "metadata": {},
   "source": [
    "#### Exercise 3:\n",
    "\n",
    "Write a shell script that allows a user to select an action from the menu. The actions are to show the disk usage, show the uptime on the system, and show the users that are logged into the system. Tell the user to enter q to quit. Display \"Goodbye!\" just before the script exits.\n",
    "\n",
    "If the user enters anything other than 1,2,3,or q,tell them that it is an \"Invalid option.\"\n",
    "\n",
    "You can show the disk usage by using the `df` command. To show the uptime, use the `uptime` command. To show the users logged into the system, use the `who` command. Print a blank line after the output of each command.\n",
    "\n",
    "Example output:\n",
    "\n",
    "1. Show disk usage.\n",
    "\n",
    "2. Show system uptime.\n",
    "\n",
    "3. Show the users logged into the system.\n",
    "\n",
    "What would you like to do? (Enter q to quit.) 2\n",
    "\n",
    "14:59:08up3days, 7:36, 7users, loadaverage:0.13,0.22,0.33\n",
    "\n",
    "1. Show disk usage.\n",
    "\n",
    "2. Show system uptime.\n",
    "\n",
    "3. Show the users logged into the system.\n",
    "\n",
    "What would you like to do? (Enter q to quit.) 4\n",
    "\n",
    "Invalid option.\n",
    "\n",
    "1. Show disk usage.\n",
    "\n",
    "2. Show system uptime.\n",
    "\n",
    "3. Show the users logged into the system.\n",
    "\n",
    "What would you like to do? (Enter q to quit.) q\n",
    "\n",
    "Goodbye!\n",
    "\n",
    "You can run below code from a terminal with: **./scripts/while_loop_ex3.sh**"
   ]
  },
  {
   "cell_type": "code",
   "execution_count": null,
   "metadata": {},
   "outputs": [],
   "source": [
    "cat scripts/while_loop_ex3.sh"
   ]
  },
  {
   "cell_type": "markdown",
   "metadata": {},
   "source": [
    "![ag](img/AB_combi.png)"
   ]
  }
 ],
 "metadata": {
  "kernelspec": {
   "display_name": "Bash",
   "language": "bash",
   "name": "bash"
  },
  "language_info": {
   "codemirror_mode": "shell",
   "file_extension": ".sh",
   "mimetype": "text/x-sh",
   "name": "bash"
  }
 },
 "nbformat": 4,
 "nbformat_minor": 4
}
