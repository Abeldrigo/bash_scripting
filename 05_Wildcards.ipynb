{
 "cells": [
  {
   "cell_type": "markdown",
   "metadata": {},
   "source": [
    "![aga](img/AB_logo.png)"
   ]
  },
  {
   "cell_type": "markdown",
   "metadata": {},
   "source": [
    "## Wildcards\n",
    "***\n",
    "\n",
    "Wildcards are characters with special meanings when used for ***Pattern Matching***. Matching patterns are also called *glob patterns*. You can use glob patterns for filenames matching but also as part of a Bash If statementicon where a double bracket condition can perform pattern matching against a string."
   ]
  },
  {
   "cell_type": "markdown",
   "metadata": {},
   "source": [
    "### Wildcard Characters\n",
    "\n",
    "The three main wildcard characters are:\n",
    "\n",
    "***\n",
    "| Wildcards                | Description |\n",
    "|:-------------------------|:------------|\n",
    "| **?**              | A question-mark is a pattern that matches any single character. |\n",
    "| ***** | An asterisk is a pattern that matches any number of any characters, including the null string/none. |\n",
    "| **[...]** | The square brackets matches any one of the enclosed characters. |\n",
    "\n",
    "If you want to exclude characters in a match, use an exclamation mark **!**.\n",
    "\n",
    "For example, if you wanted to find all the files that do not start with the vawel, use **`[!aeiou]*`**."
   ]
  },
  {
   "cell_type": "markdown",
   "metadata": {},
   "source": [
    "### Wildcards - Ranges\n",
    "* Use two characters separated by a hyphen to create a range in a character class.\n",
    "\n",
    " * **`[a-g]*`** Matches all files that start with a, b, c, d, e, f, or g.\n",
    " \n",
    " * **`[3-6]*`** Matches all files tha starts with 3, 4, 5, or 6"
   ]
  },
  {
   "cell_type": "markdown",
   "metadata": {},
   "source": [
    "### Named Character Classes\n",
    "***\n",
    "Instead of creating your own ranges, you can use predefined named character classes. These named character classes represent the most commonly used ranges.\n",
    "\n",
    "| Named Character Classes                | Description |\n",
    "|:-------------------------|:------------|\n",
    "| **[[:alpha:]]** | Matches alphabetic letters, both, lower and upper case letters.  |\n",
    "| **[[:alnum:]]** | Matches alphanumeric characters. This means it matches alpha (any uppercase or lowecase letters) and digits (any decimal digits). |\n",
    "| **[[:digit:]]** | Represents the numbers and decimal from 0 to 9. |\n",
    "| **[[:lower:]]** | Matches any lowercase letters. |\n",
    "| **[[:space:]]** | Matches wide space. This means character such as spaces, tabs and newline characters. |\n",
    "| **[[:upper:]]** | Matches any uppercase letters. |"
   ]
  },
  {
   "cell_type": "markdown",
   "metadata": {},
   "source": [
    "### Matching Wildcard patterns\n",
    "To escape the wildcard, simply place the **\\\\** before the wildcard character.\n",
    "\n",
    " * **`*\\?`** Match all files that end with a question mark"
   ]
  },
  {
   "cell_type": "code",
   "execution_count": 1,
   "metadata": {},
   "outputs": [
    {
     "name": "stdout",
     "output_type": "stream",
     "text": [
      " 01_Shell_Scripting_Part_One.ipynb         \u001b[0m\u001b[01;34mimg\u001b[0m/\n",
      " 02_Shell_Scripting_Part_Two.ipynb         LICENCE\n",
      " 03_Return_Codes_and_Exit_Statuses.ipynb   README.md\n",
      " 04_Functions.ipynb                        \u001b[01;34mscripts\u001b[0m/\n",
      " 05_Wildcards.ipynb                        Untitled.ipynb\n",
      "'Creating a Github Repository.ipynb'\n"
     ]
    }
   ],
   "source": [
    "ls -F"
   ]
  },
  {
   "cell_type": "markdown",
   "metadata": {},
   "source": [
    "List all the files that end with **.md**"
   ]
  },
  {
   "cell_type": "code",
   "execution_count": 2,
   "metadata": {},
   "outputs": [
    {
     "name": "stdout",
     "output_type": "stream",
     "text": [
      "README.md\n"
     ]
    }
   ],
   "source": [
    "ls *.md"
   ]
  },
  {
   "cell_type": "markdown",
   "metadata": {},
   "source": [
    "List all the files that start whit **0**"
   ]
  },
  {
   "cell_type": "code",
   "execution_count": 3,
   "metadata": {},
   "outputs": [
    {
     "name": "stdout",
     "output_type": "stream",
     "text": [
      "01_Shell_Scripting_Part_One.ipynb        04_Functions.ipynb\n",
      "02_Shell_Scripting_Part_Two.ipynb        05_Wildcards.ipynb\n",
      "03_Return_Codes_and_Exit_Statuses.ipynb\n"
     ]
    }
   ],
   "source": [
    "ls 0*"
   ]
  },
  {
   "cell_type": "markdown",
   "metadata": {},
   "source": [
    "List all the files that start with a **0** and end in **.ipynb**."
   ]
  },
  {
   "cell_type": "code",
   "execution_count": 7,
   "metadata": {},
   "outputs": [
    {
     "name": "stdout",
     "output_type": "stream",
     "text": [
      "-rw-rw-r-- 1 enki enki 6130 nov  8 20:23 02_Shell_Scripting_Part_Two.ipynb\n",
      "-rw-rw-r-- 1 enki enki 9857 nov 10 21:09 03_Return_Codes_and_Exit_Statuses.ipynb\n",
      "-rw-rw-r-- 1 enki enki 9658 nov 11 11:38 04_Functions.ipynb\n",
      "-rw-rw-r-- 1 enki enki 7837 nov 11 11:55 01_Shell_Scripting_Part_One.ipynb\n",
      "-rw-rw-r-- 1 enki enki 5515 nov 11 12:36 05_Wildcards.ipynb\n"
     ]
    }
   ],
   "source": [
    "ls -lrt 0*.ipynb"
   ]
  },
  {
   "cell_type": "code",
   "execution_count": 9,
   "metadata": {},
   "outputs": [
    {
     "name": "stdout",
     "output_type": "stream",
     "text": [
      "-rw-rw-r-- 1 enki enki 6130 nov  8 20:23 02_Shell_Scripting_Part_Two.ipynb\n",
      "-rw-rw-r-- 1 enki enki 9857 nov 10 21:09 03_Return_Codes_and_Exit_Statuses.ipynb\n",
      "-rw-rw-r-- 1 enki enki 9658 nov 11 11:38 04_Functions.ipynb\n",
      "-rw-rw-r-- 1 enki enki 7837 nov 11 11:55 01_Shell_Scripting_Part_One.ipynb\n",
      "-rw-rw-r-- 1 enki enki 5515 nov 11 12:36 05_Wildcards.ipynb\n"
     ]
    }
   ],
   "source": [
    "ls -lrt 0*b"
   ]
  },
  {
   "cell_type": "markdown",
   "metadata": {},
   "source": [
    "List all the files that start in **0**, we do not know secon character, contains **\\_Shell_Scripting_Part_**, three characters, and ends with **b**."
   ]
  },
  {
   "cell_type": "code",
   "execution_count": 12,
   "metadata": {},
   "outputs": [
    {
     "name": "stdout",
     "output_type": "stream",
     "text": [
      "-rw-rw-r-- 1 enki enki 6130 nov  8 20:23 02_Shell_Scripting_Part_Two.ipynb\n",
      "-rw-rw-r-- 1 enki enki 7837 nov 11 11:55 01_Shell_Scripting_Part_One.ipynb\n"
     ]
    }
   ],
   "source": [
    "ls -lrt 0?_Shell_Scripting_Part_???*b"
   ]
  },
  {
   "cell_type": "markdown",
   "metadata": {},
   "source": [
    "List all the files tha start with 0 and the second character is between 2 and 4."
   ]
  },
  {
   "cell_type": "code",
   "execution_count": 15,
   "metadata": {},
   "outputs": [
    {
     "name": "stdout",
     "output_type": "stream",
     "text": [
      "-rw-rw-r-- 1 enki enki 6130 nov  8 20:23 02_Shell_Scripting_Part_Two.ipynb\n",
      "-rw-rw-r-- 1 enki enki 9857 nov 10 21:09 03_Return_Codes_and_Exit_Statuses.ipynb\n",
      "-rw-rw-r-- 1 enki enki 9658 nov 11 11:38 04_Functions.ipynb\n"
     ]
    }
   ],
   "source": [
    "ls -lrt 0[2-4]*"
   ]
  },
  {
   "cell_type": "markdown",
   "metadata": {},
   "source": [
    "![ag](img/AB_combi.png)"
   ]
  }
 ],
 "metadata": {
  "kernelspec": {
   "display_name": "Bash",
   "language": "bash",
   "name": "bash"
  },
  "language_info": {
   "codemirror_mode": "shell",
   "file_extension": ".sh",
   "mimetype": "text/x-sh",
   "name": "bash"
  }
 },
 "nbformat": 4,
 "nbformat_minor": 4
}
