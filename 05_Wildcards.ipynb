{
 "cells": [
  {
   "cell_type": "markdown",
   "metadata": {},
   "source": [
    "![aga](img/AB_logo.png)"
   ]
  },
  {
   "cell_type": "markdown",
   "metadata": {},
   "source": [
    "## Wildcards\n",
    "***\n",
    "\n",
    "Wildcards are characters with special meanings when used for ***Pattern Matching***. Matching patterns are also called *glob patterns*. You can use glob patterns for filenames matching but also as part of a Bash If statementicon where a double bracket condition can perform pattern matching against a string."
   ]
  },
  {
   "cell_type": "markdown",
   "metadata": {},
   "source": [
    "### Wildcard Characters\n",
    "\n",
    "The three main wildcard characters are:\n",
    "\n",
    "***\n",
    "| Wildcards                | Description |\n",
    "|:-------------------------|:------------|\n",
    "| **?**              | A question-mark is a pattern that matches any single character. |\n",
    "| ***** | An asterisk is a pattern that matches any number of any characters, including the null string/none. |\n",
    "| **[...]** | The square brackets matches any one of the enclosed characters. |\n",
    "\n",
    "If you want to exclude characters in a match, use an exclamation mark **!**.\n",
    "\n",
    "For example, if you wanted to find all the files that do not start with the vawel, use **`[!aeiou]*`**."
   ]
  },
  {
   "cell_type": "markdown",
   "metadata": {},
   "source": [
    "### Wildcards - Ranges\n",
    "* Use two characters separated by a hyphen to create a range in a character class.\n",
    "\n",
    " * **`[a-g]*`** Matches all files that start with a, b, c, d, e, f, or g.\n",
    " \n",
    " * **`[3-6]*`** Matches all files tha starts with 3, 4, 5, or 6"
   ]
  },
  {
   "cell_type": "markdown",
   "metadata": {},
   "source": [
    "### Named Character Classes\n",
    "***\n",
    "Instead of creating your own ranges, you can use predefined named character classes. These named character classes represent the most commonly used ranges.\n",
    "\n",
    "| Named Character Classes                | Description |\n",
    "|:-------------------------|:------------|\n",
    "| **[[:alpha:]]** | Matches alphabetic letters, both, lower and upper case letters.  |\n",
    "| **[[:alnum:]]** | Matches alphanumeric characters. This means it matches alpha (any uppercase or lowecase letters) and digits (any decimal digits). |\n",
    "| **[[:digit:]]** | Represents the numbers and decimal from 0 to 9. |\n",
    "| **[[:lower:]]** | Matches any lowercase letters. |\n",
    "| **[[:space:]]** | Matches wide space. This means character such as spaces, tabs and newline characters. |\n",
    "| **[[:upper:]]** | Matches any uppercase letters. |"
   ]
  },
  {
   "cell_type": "markdown",
   "metadata": {},
   "source": [
    "### Matching Wildcard patterns\n",
    "To escape the wildcard, simply place the **\\\\** before the wildcard character.\n",
    "\n",
    " * **`*\\?`** Match all files that end with a question mark"
   ]
  },
  {
   "cell_type": "code",
   "execution_count": null,
   "metadata": {},
   "outputs": [],
   "source": []
  }
 ],
 "metadata": {
  "kernelspec": {
   "display_name": "Bash",
   "language": "bash",
   "name": "bash"
  },
  "language_info": {
   "codemirror_mode": "shell",
   "file_extension": ".sh",
   "mimetype": "text/x-sh",
   "name": "bash"
  }
 },
 "nbformat": 4,
 "nbformat_minor": 4
}
