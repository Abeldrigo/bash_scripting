{
 "cells": [
  {
   "cell_type": "markdown",
   "metadata": {},
   "source": [
    "![aga](img/AB_logo.png)"
   ]
  },
  {
   "cell_type": "markdown",
   "metadata": {
    "id": "0ajG3Rs9P-WX"
   },
   "source": [
    "## Functions\n",
    "***\n",
    "\n",
    "Shell functions are a way to group commands for later execution, using a single name for this group, or *routine*. The name of the routine must be unique within the shell or script. All the commands that make up a function are executed like regular commands. When calling on a function as a simple command name, the list of commands associated with that function name is executed. A function is executed within the shell in which it has been declared: no new process is created to interpret the commands.\n",
    "\n",
    "Functions must be declared before they are used. "
   ]
  },
  {
   "cell_type": "markdown",
   "metadata": {
    "id": "QYCthbmMQvJB"
   },
   "source": [
    "### Function syntax\n",
    "***\n",
    "\n",
    "function function-name() {\n",
    "\n",
    "  COMMANDS\n",
    "\n",
    "}\n",
    "\n",
    "or\n",
    "\n",
    "function-name() {\n",
    "\n",
    "  COMMANDS\n",
    "\n",
    "}"
   ]
  },
  {
   "cell_type": "markdown",
   "metadata": {
    "id": "OD9d8nbzSMpa"
   },
   "source": [
    "### Calling function\n",
    "***"
   ]
  },
  {
   "cell_type": "code",
   "execution_count": null,
   "metadata": {
    "colab": {
     "base_uri": "https://localhost:8080/",
     "height": 135
    },
    "id": "RQmRLOmrSQXb",
    "outputId": "4b3bec4a-12f6-4f43-c9fe-1f0ab3626320"
   },
   "outputs": [],
   "source": [
    "#!/bin/bash\n",
    "function hello() {\n",
    "    echo \"Hello!\"\n",
    "}\n",
    "\n",
    "hello"
   ]
  },
  {
   "cell_type": "markdown",
   "metadata": {
    "id": "dxvBrYgsSt4Q"
   },
   "source": [
    "#### Functions can call another functions.\n",
    "***"
   ]
  },
  {
   "cell_type": "code",
   "execution_count": null,
   "metadata": {
    "colab": {
     "base_uri": "https://localhost:8080/",
     "height": 135
    },
    "id": "MKR_LH72SeWj",
    "outputId": "eac52721-8393-43d0-df8a-e4ff16b9c731"
   },
   "outputs": [],
   "source": [
    "#!/bin/bash\n",
    "\n",
    "function hello () {\n",
    "    echo \"Hello!\"\n",
    "    now\n",
    "}\n",
    "\n",
    "function now () {\n",
    "    echo \"It's $(date +%r)\"\n",
    "}\n",
    "\n",
    "hello"
   ]
  },
  {
   "cell_type": "markdown",
   "metadata": {
    "id": "gCoX0zTIU6VG"
   },
   "source": [
    "### Positional Parameters\n",
    "***"
   ]
  },
  {
   "cell_type": "code",
   "execution_count": null,
   "metadata": {
    "colab": {
     "base_uri": "https://localhost:8080/",
     "height": 135
    },
    "id": "tdUfWDgWTYl0",
    "outputId": "4d707957-9413-4d35-cd79-1da83311433f"
   },
   "outputs": [],
   "source": [
    "#!/bin/bash\n",
    "\n",
    "function hello () {\n",
    "    echo \"Hello $1\"\n",
    "}\n",
    "\n",
    "hello Jason"
   ]
  },
  {
   "cell_type": "code",
   "execution_count": null,
   "metadata": {
    "colab": {
     "base_uri": "https://localhost:8080/",
     "height": 135
    },
    "id": "Ah_R1A2bUxxG",
    "outputId": "6e359e93-d257-405b-fa35-2d5e1119753d"
   },
   "outputs": [],
   "source": [
    "#!/bin/bash\n",
    "\n",
    "function hello () {\n",
    "    for NAME in $@\n",
    "    do\n",
    "      echo \"Hello ${NAME}\"\n",
    "    done\n",
    "}\n",
    "\n",
    "hello Jason Dan Ryan"
   ]
  },
  {
   "cell_type": "markdown",
   "metadata": {
    "id": "-q6O7HuFVsc0"
   },
   "source": [
    "### Variable Scope\n",
    "***\n",
    "\n",
    "* By default, variables are global.\n",
    "* Variables have to be defined before used.\n",
    "\n",
    "GLOBAL_VAR=1\n",
    "\n",
    "\\# GLOBAL_VAR is available in the function.\n",
    "\n",
    "my_function\n",
    "___\n",
    "\\# GLOBAL_VAR is NOT available in the function.\n",
    "\n",
    "my_function\n",
    "\n",
    "GLOBAL_VAR=1\n",
    "___"
   ]
  },
  {
   "cell_type": "markdown",
   "metadata": {
    "id": "AdEjwCxlXJQ6"
   },
   "source": [
    "If a global variable is defined within a function, it is not available outside that function until the function is called and executed."
   ]
  },
  {
   "cell_type": "code",
   "execution_count": null,
   "metadata": {
    "colab": {
     "base_uri": "https://localhost:8080/",
     "height": 135
    },
    "id": "19dn9zQmVRRy",
    "outputId": "85f41383-c57b-4367-e7f5-91e76b111189"
   },
   "outputs": [],
   "source": [
    "#!/bin/bash\n",
    "\n",
    "my_function () {\n",
    "    GLOBAL_VAR=1\n",
    "}\n",
    "# GLOBAL_VAR not available yet.\n",
    "echo $GLOBAL_VAR\n",
    "\n",
    "my_function\n",
    "# GLOBAL_VAR is NOE available.\n",
    "echo $GLOBAL_VAR"
   ]
  },
  {
   "cell_type": "markdown",
   "metadata": {
    "id": "8gdP6HmVYIUt"
   },
   "source": [
    "### Local Variables\n",
    "***\n",
    "\n",
    "* Can only be accessed within the function.\n",
    "* Create using the **local** keyword.\n",
    "  * local LOCAL_VAR=1\n",
    "  Only use tue **local** keyword the first time the variable is used.\n",
    "* Only functions can have local variables.\n",
    "* Best practice to keep variables local in functions."
   ]
  },
  {
   "cell_type": "markdown",
   "metadata": {
    "id": "CBN-J4UAZGo8"
   },
   "source": [
    "### Exit Status (Return Codes)\n",
    "***\n",
    "\n",
    "* Functions have an exit status\n",
    "* Explicitly\n",
    "  * return <RETURN_CODE>\n",
    "* Implicitly\n",
    "  * The exit status of the last command executed in the function."
   ]
  },
  {
   "cell_type": "code",
   "execution_count": null,
   "metadata": {
    "id": "QrEv--WrYGCS"
   },
   "outputs": [],
   "source": [
    "#!/bin/bash\n",
    "\n",
    "function backup_file () {\n",
    "    if [ -f $1 ]\n",
    "    then\n",
    "      BACK=\"/tmp/$(basename ${1}).$(date +%F).$$\"\n",
    "      echo \"Backing up $1 to ${BACK}\"\n",
    "      cp $1 $BACK\n",
    "    fi\n",
    "}\n",
    "\n",
    "backup_file /etc/hosts\n",
    "\n",
    "if [ $? -eq 0 ]\n",
    "then\n",
    "  echo \"Backup succeeded!\"\n",
    "fi"
   ]
  },
  {
   "cell_type": "code",
   "execution_count": null,
   "metadata": {
    "id": "nqOs8uo_jdkP"
   },
   "outputs": [],
   "source": [
    "#!/bin/bash\n",
    "\n",
    "function backup_file () {\n",
    "    if [ -f $1 ]\n",
    "    then\n",
    "      local BACK=\"/tmp/$(basename ${1}).$(date +%F).$$\"\n",
    "      echo \"Backing up $1 to ${BACK}\"\n",
    "      # The exit status of the function will be the exit status of the cp command.\n",
    "      cp $1 $BACK\n",
    "    else\n",
    "      # The file does not exist.\n",
    "      return 1\n",
    "    fi\n",
    "}\n",
    "\n",
    "backup_file /etc/hosts\n",
    "\n",
    "# Make a decision based on the exit status.\n",
    "if [ $? -eq 0 ]\n",
    "then\n",
    "  echo \"Backup succeeded!\"\n",
    "else\n",
    "  echo \"Backup failed!\"\n",
    "  # About the script and return a non-zero exit status.\n",
    "  exit 1\n",
    "fi"
   ]
  },
  {
   "cell_type": "markdown",
   "metadata": {
    "id": "ma0AuMSDlz-o"
   },
   "source": [
    "#### Exercise 1:\n",
    "\n",
    "Write a shell script that consists of a function that display the number of files in the present working directory. Name this function \"file_count\" and call it in your script. If you use a variable in your function, remember to make it a local variable.\n",
    "\n",
    "Hint: The wc utility is used to count the number of lines, words, and bytes. "
   ]
  },
  {
   "cell_type": "code",
   "execution_count": null,
   "metadata": {
    "id": "BOiV03tSkc-h"
   },
   "outputs": [],
   "source": [
    "#!/bin/bash\n",
    "\n",
    "function file_count () {\n",
    "    local PRESENT_DIR=\"$(ls | wc -l)\"\n",
    "    if [ $? -eq 0 ]\n",
    "    then\n",
    "      echo \"Preset directory has ${PRESENT_DIR} files\" \n",
    "    else\n",
    "      echo \"ls | wc -l\"\n",
    "    fi\n",
    "}\n",
    "\n",
    "file_count\n",
    "\n"
   ]
  },
  {
   "cell_type": "markdown",
   "metadata": {
    "id": "qsitcKXemB0k"
   },
   "source": [
    "#### Exercise 2:\n",
    "\n",
    "Modify the script from the previous exercise. Make the \"file_count\" function accept a directory as an argument. Next have the function display the name of the directory followed by a colon. Finally, display the number of files to the screen on the next line. Call the function three times. First, on the \"/etc\" directory, next on the \"/var\" directory and finally on the \"/usr/bin\" directory.\n",
    "\n",
    "Example output:\n",
    "\n",
    "/etc:\n",
    "85"
   ]
  },
  {
   "cell_type": "code",
   "execution_count": null,
   "metadata": {
    "id": "SdntOO64qepo"
   },
   "outputs": [],
   "source": [
    "#!/bin/bash\n",
    "\n",
    "function file_count () {\n",
    "    for PRESENT_DIR in $@\n",
    "    do\n",
    "      echo \"${PRESENT_DIR}:\"\n",
    "      echo ls | wc -l\n",
    "    done\n",
    "}\n",
    "\n",
    "file_count /etc /var /usr/bin"
   ]
  },
  {
   "cell_type": "markdown",
   "metadata": {
    "id": "rGW9DS-j34IT"
   },
   "source": [
    "![ag](img/AB_combi.png)"
   ]
  }
 ],
 "metadata": {
  "colab": {
   "collapsed_sections": [],
   "name": "AGA.ipynb",
   "provenance": []
  },
  "kernelspec": {
   "display_name": "Bash",
   "language": "bash",
   "name": "bash"
  },
  "language_info": {
   "codemirror_mode": "shell",
   "file_extension": ".sh",
   "mimetype": "text/x-sh",
   "name": "bash"
  }
 },
 "nbformat": 4,
 "nbformat_minor": 1
}
