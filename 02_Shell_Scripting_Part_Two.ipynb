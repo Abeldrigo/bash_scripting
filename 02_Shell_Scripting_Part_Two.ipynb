{
 "cells": [
  {
   "cell_type": "markdown",
   "metadata": {},
   "source": [
    "![aga](img/AB_logo.png)"
   ]
  },
  {
   "cell_type": "markdown",
   "metadata": {},
   "source": [
    "# Making Decitions\n",
    "## The if statement\n",
    "***\n",
    "if [ condition-is-true ]\n",
    "\n",
    "then\n",
    "\n",
    "    command 1\n",
    "\n",
    "    command 2\n",
    "\n",
    "    command N\n",
    "\n",
    "fi "
   ]
  },
  {
   "cell_type": "code",
   "execution_count": null,
   "metadata": {},
   "outputs": [],
   "source": [
    "#!/bin/bash\n",
    "\n",
    "MY_SHELL=\"bash\"\n",
    "\n",
    "if [ \"$MY_SHELL\" = \"bash\" ]\n",
    "then\n",
    "    echo \"You seem to like the bash shell.\"\n",
    "fi"
   ]
  },
  {
   "cell_type": "markdown",
   "metadata": {},
   "source": [
    "**Note that it's a best practice to enclose variables in quotes to prevent some unexpected side effects when performing conditional tests.**"
   ]
  },
  {
   "cell_type": "markdown",
   "metadata": {},
   "source": [
    "## if/else\n",
    "***\n",
    "if [ condition-is-true ]\n",
    "\n",
    "then\n",
    "\n",
    "    command N\n",
    "else\n",
    "\n",
    "    command N\n",
    "\n",
    "fi"
   ]
  },
  {
   "cell_type": "code",
   "execution_count": null,
   "metadata": {},
   "outputs": [],
   "source": [
    "#!/bin/bash\n",
    "\n",
    "MY_SHELL=\"csh\"\n",
    "\n",
    "if [ \"$MY_SHELL\" = \"bash\" ]\n",
    "then\n",
    "    echo \"You seem to like the bash shell.\"\n",
    "else\n",
    "    echo \"You don't seem to like the bash shell.\"\n",
    "fi"
   ]
  },
  {
   "cell_type": "markdown",
   "metadata": {},
   "source": [
    "## if/elif/else\n",
    "***\n",
    "if [ condition-is-true ]\n",
    "\n",
    "then\n",
    "\n",
    "    command N\n",
    "\n",
    "elif [ condition-is-true ]\n",
    "\n",
    "then\n",
    "\n",
    "    command N\n",
    "    \n",
    "else\n",
    "\n",
    "    command N\n",
    "\n",
    "fi"
   ]
  },
  {
   "cell_type": "code",
   "execution_count": null,
   "metadata": {},
   "outputs": [],
   "source": [
    "#!/bin/bash\n",
    "\n",
    "MY_SHELL=\"csh\"\n",
    "\n",
    "if [ \"$MY_SHELL\" = \"bash\" ]\n",
    "then\n",
    "    echo \"You seem to like the bash shell.\"\n",
    "elif [ \"$MY_SHELL\" = \"csh\" ]\n",
    "then\n",
    "    echo \"You seem to like the csh shell.\"\n",
    "else\n",
    "    echo \"You don't seem to like the bash or csh shells.\"\n",
    "fi"
   ]
  },
  {
   "cell_type": "markdown",
   "metadata": {},
   "source": [
    "## For loop\n",
    "***\n",
    "for VARIABLE_NAME in ITEM_1 ITEM_2 ITEM_N\n",
    "\n",
    "do\n",
    "\n",
    "    command 1\n",
    "    \n",
    "    command 2\n",
    "    \n",
    "    command N\n",
    "    \n",
    "done"
   ]
  },
  {
   "cell_type": "code",
   "execution_count": null,
   "metadata": {},
   "outputs": [],
   "source": [
    "#!/bin/bash\n",
    "\n",
    "for COLOR in red green blue\n",
    "do\n",
    "    echo \"COLOR: $COLOR\"\n",
    "done"
   ]
  },
  {
   "cell_type": "markdown",
   "metadata": {},
   "source": [
    "### Storing list of elements in a variable"
   ]
  },
  {
   "cell_type": "code",
   "execution_count": null,
   "metadata": {},
   "outputs": [],
   "source": [
    "#!/bin/bash\n",
    "\n",
    "COLORS=\"red green blue pink black\"\n",
    "\n",
    "for COLOR in $COLORS\n",
    "do\n",
    "    echo \"COLOR: $COLOR\"\n",
    "done"
   ]
  },
  {
   "cell_type": "code",
   "execution_count": null,
   "metadata": {},
   "outputs": [],
   "source": [
    "#!/bin/bash\n",
    "\n",
    "#Adjust your path\n",
    "PICTURES=$(ls img/test_script/*png*)\n",
    "DATE=$(date +%Y%m%d)\n",
    "\n",
    "for PICTURE in $PICTURES\n",
    "do\n",
    "    echo \"Renaming ${PICTURE} to ${PICTURE}-${DATE}\"\n",
    "    mv ${PICTURE} ${PICTURE}-${DATE}\n",
    "done"
   ]
  },
  {
   "cell_type": "code",
   "execution_count": null,
   "metadata": {},
   "outputs": [],
   "source": [
    "ls -ltr img/test_script/*png*"
   ]
  },
  {
   "cell_type": "markdown",
   "metadata": {},
   "source": [
    "## Positional Parameters\n",
    "***\n",
    "Positional parameters are variables that contain the contents of the ***command line***.\n",
    "\n",
    "The variables are `$0` through `$9`.\n",
    "\n",
    "The script itself is stored in `$0`, the first parameter is stored in `$1`, the second in `$2`, and so on.\n",
    "\n",
    "$ `script.sh parameter1 parameter2 parameter3`\n",
    "\n",
    "**$0:** \"script.sh\" \n",
    "\n",
    "**$1:** \"parameter1\" \n",
    "\n",
    "**$2:** \"parameter2\"\n",
    "\n",
    "**$3:** \"parameter3\"\n"
   ]
  },
  {
   "cell_type": "markdown",
   "metadata": {},
   "source": [
    "### Create a file and name it archive_user.sh and paste below code:\n",
    "\n",
    "`#!/bin/bash`\n",
    "\n",
    "`echo \"Executing script: $0\"`\n",
    "\n",
    "`echo \"Archiving user: $1\"`\n",
    "\n",
    "\\# Lock the account\n",
    "\n",
    "`passwd -l $1`\n",
    "\n",
    "\\# Create an archive of the home directory.\n",
    "\n",
    "`tar cf /archives/${1}.tar.gz /home/${1}`\n"
   ]
  },
  {
   "cell_type": "markdown",
   "metadata": {},
   "source": [
    "Runnig above script:\n",
    "\n",
    "`./scripts/archive_user.sh iktan`"
   ]
  },
  {
   "cell_type": "code",
   "execution_count": null,
   "metadata": {},
   "outputs": [],
   "source": [
    "./scripts/archive_user.sh iktan"
   ]
  },
  {
   "cell_type": "markdown",
   "metadata": {},
   "source": [
    "## Accepting User Input (STDIN)\n",
    "***\n",
    "The `read` command accepts STDIN.\n",
    "\n",
    "Syntax:\n",
    "\n",
    "`read -p \"PROMPT\" VARIABLE`"
   ]
  },
  {
   "cell_type": "markdown",
   "metadata": {},
   "source": [
    "![ag](img/AB_combi.png)"
   ]
  }
 ],
 "metadata": {
  "kernelspec": {
   "display_name": "Bash",
   "language": "bash",
   "name": "bash"
  },
  "language_info": {
   "codemirror_mode": "shell",
   "file_extension": ".sh",
   "mimetype": "text/x-sh",
   "name": "bash"
  }
 },
 "nbformat": 4,
 "nbformat_minor": 4
}
